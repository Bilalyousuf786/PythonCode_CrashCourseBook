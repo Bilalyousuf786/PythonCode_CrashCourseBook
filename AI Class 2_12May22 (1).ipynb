{
 "cells": [
  {
   "cell_type": "markdown",
   "id": "cbcc4942",
   "metadata": {},
   "source": [
    "# Python Class 2"
   ]
  },
  {
   "cell_type": "code",
   "execution_count": 1,
   "id": "a4157e0d",
   "metadata": {
    "scrolled": false
   },
   "outputs": [
    {
     "name": "stdout",
     "output_type": "stream",
     "text": [
      "Pakistan Zindabad\n"
     ]
    }
   ],
   "source": [
    "# Print Function\n",
    "print(\"Pakistan Zindabad\")"
   ]
  },
  {
   "cell_type": "code",
   "execution_count": 2,
   "id": "59519d62",
   "metadata": {},
   "outputs": [
    {
     "name": "stdout",
     "output_type": "stream",
     "text": [
      "I am a string value 11 2.3 True False\n"
     ]
    }
   ],
   "source": [
    "print(\"I am a string value\", 11, 2.3, True, False)"
   ]
  },
  {
   "cell_type": "code",
   "execution_count": 3,
   "id": "80d90ee3",
   "metadata": {},
   "outputs": [
    {
     "name": "stdout",
     "output_type": "stream",
     "text": [
      "I am a string value112.3TrueFalse\n"
     ]
    }
   ],
   "source": [
    "print(\"I am a string value\", 11, 2.3, True, False, sep=\"\")"
   ]
  },
  {
   "cell_type": "code",
   "execution_count": 4,
   "id": "64a85826",
   "metadata": {},
   "outputs": [
    {
     "name": "stdout",
     "output_type": "stream",
     "text": [
      "I am a string value  :  11  :  2.3  :  True  :  False\n"
     ]
    }
   ],
   "source": [
    "print(\"I am a string value\", 11, 2.3, True, False, sep=\"  :  \")"
   ]
  },
  {
   "cell_type": "code",
   "execution_count": 5,
   "id": "97149e12",
   "metadata": {},
   "outputs": [
    {
     "name": "stdout",
     "output_type": "stream",
     "text": [
      "I am a string valueI am a string valueI am a string value****1****2****3****4****5\n"
     ]
    }
   ],
   "source": [
    "print(\"I am a string value\" \"I am a string value\" \"I am a string value\", 1,2,3,4,5 ,sep=\"****\")"
   ]
  },
  {
   "cell_type": "code",
   "execution_count": 6,
   "id": "3aaf6e36",
   "metadata": {},
   "outputs": [
    {
     "name": "stdout",
     "output_type": "stream",
     "text": [
      "Bilal\n",
      "Yousuf\n"
     ]
    }
   ],
   "source": [
    "print(\"Bilal\")\n",
    "print(\"Yousuf\")"
   ]
  },
  {
   "cell_type": "code",
   "execution_count": 7,
   "id": "e91e448d",
   "metadata": {},
   "outputs": [
    {
     "name": "stdout",
     "output_type": "stream",
     "text": [
      "BilalYousuf\n"
     ]
    }
   ],
   "source": [
    "print(\"Bilal\", end=\"\")\n",
    "print(\"Yousuf\")"
   ]
  },
  {
   "cell_type": "code",
   "execution_count": 8,
   "id": "e31b54fd",
   "metadata": {},
   "outputs": [
    {
     "data": {
      "text/plain": [
       "'python \\n world'"
      ]
     },
     "execution_count": 8,
     "metadata": {},
     "output_type": "execute_result"
    }
   ],
   "source": [
    "\"python \\n world\""
   ]
  },
  {
   "cell_type": "code",
   "execution_count": null,
   "id": "18b852d1",
   "metadata": {},
   "outputs": [],
   "source": [
    "# Type Casting means change of Type."
   ]
  },
  {
   "cell_type": "code",
   "execution_count": 31,
   "id": "28b23edb",
   "metadata": {},
   "outputs": [
    {
     "name": "stdout",
     "output_type": "stream",
     "text": [
      "Enter Age26.7\n"
     ]
    }
   ],
   "source": [
    "age = int (float(input(\"Enter Age\")))"
   ]
  },
  {
   "cell_type": "markdown",
   "id": "4533b436",
   "metadata": {},
   "source": [
    "# Data Types\n"
   ]
  },
  {
   "cell_type": "markdown",
   "id": "3d49b2fb",
   "metadata": {},
   "source": [
    "# Variables for string"
   ]
  },
  {
   "cell_type": "code",
   "execution_count": 9,
   "id": "87c66c57",
   "metadata": {},
   "outputs": [],
   "source": [
    "# Variables are identifier\n",
    "age = 23.7  # age is a variable,   age is assign a value 23.7"
   ]
  },
  {
   "cell_type": "code",
   "execution_count": 10,
   "id": "b9e2d4f7",
   "metadata": {},
   "outputs": [
    {
     "data": {
      "text/plain": [
       "23.7"
      ]
     },
     "execution_count": 10,
     "metadata": {},
     "output_type": "execute_result"
    }
   ],
   "source": [
    "age"
   ]
  },
  {
   "cell_type": "code",
   "execution_count": 11,
   "id": "dbefa374",
   "metadata": {},
   "outputs": [
    {
     "data": {
      "text/plain": [
       "1404641459024"
      ]
     },
     "execution_count": 11,
     "metadata": {},
     "output_type": "execute_result"
    }
   ],
   "source": [
    "id(age)"
   ]
  },
  {
   "cell_type": "code",
   "execution_count": 12,
   "id": "e803bd3b",
   "metadata": {},
   "outputs": [
    {
     "data": {
      "text/plain": [
       "float"
      ]
     },
     "execution_count": 12,
     "metadata": {},
     "output_type": "execute_result"
    }
   ],
   "source": [
    "type(age)"
   ]
  },
  {
   "cell_type": "markdown",
   "id": "5f807248",
   "metadata": {},
   "source": [
    "# Operators"
   ]
  },
  {
   "cell_type": "raw",
   "id": "6247b73c",
   "metadata": {},
   "source": [
    "Addition +, Subtraction -, Multiplication *, Division / or // "
   ]
  },
  {
   "cell_type": "code",
   "execution_count": 13,
   "id": "b6ab2eb7",
   "metadata": {},
   "outputs": [
    {
     "data": {
      "text/plain": [
       "85"
      ]
     },
     "execution_count": 13,
     "metadata": {},
     "output_type": "execute_result"
    }
   ],
   "source": [
    "mark = 45\n",
    "mark + 40"
   ]
  },
  {
   "cell_type": "code",
   "execution_count": 14,
   "id": "abe72903",
   "metadata": {},
   "outputs": [
    {
     "data": {
      "text/plain": [
       "68.7"
      ]
     },
     "execution_count": 14,
     "metadata": {},
     "output_type": "execute_result"
    }
   ],
   "source": [
    "mark + age"
   ]
  },
  {
   "cell_type": "code",
   "execution_count": 15,
   "id": "53909708",
   "metadata": {},
   "outputs": [
    {
     "data": {
      "text/plain": [
       "24.7"
      ]
     },
     "execution_count": 15,
     "metadata": {},
     "output_type": "execute_result"
    }
   ],
   "source": [
    "age = age + 1\n",
    "age"
   ]
  },
  {
   "cell_type": "code",
   "execution_count": 16,
   "id": "b6d65c63",
   "metadata": {},
   "outputs": [
    {
     "data": {
      "text/plain": [
       "24.7"
      ]
     },
     "execution_count": 16,
     "metadata": {},
     "output_type": "execute_result"
    }
   ],
   "source": [
    "age = age * 1\n",
    "age"
   ]
  },
  {
   "cell_type": "code",
   "execution_count": 17,
   "id": "5fddb9af",
   "metadata": {},
   "outputs": [
    {
     "data": {
      "text/plain": [
       "1.0"
      ]
     },
     "execution_count": 17,
     "metadata": {},
     "output_type": "execute_result"
    }
   ],
   "source": [
    "# Division : By default python division is float\n",
    "\n",
    "age = 10/10\n",
    "age"
   ]
  },
  {
   "cell_type": "code",
   "execution_count": 18,
   "id": "655cc3f2",
   "metadata": {},
   "outputs": [
    {
     "data": {
      "text/plain": [
       "1"
      ]
     },
     "execution_count": 18,
     "metadata": {},
     "output_type": "execute_result"
    }
   ],
   "source": [
    "age = 10 // 10\n",
    "age"
   ]
  },
  {
   "cell_type": "code",
   "execution_count": 19,
   "id": "02a5b0fb",
   "metadata": {},
   "outputs": [
    {
     "data": {
      "text/plain": [
       "23"
      ]
     },
     "execution_count": 19,
     "metadata": {},
     "output_type": "execute_result"
    }
   ],
   "source": [
    "import math\n",
    "\n",
    "math.floor(23.9)"
   ]
  },
  {
   "cell_type": "code",
   "execution_count": 30,
   "id": "b45059fa",
   "metadata": {},
   "outputs": [
    {
     "data": {
      "text/plain": [
       "24"
      ]
     },
     "execution_count": 30,
     "metadata": {},
     "output_type": "execute_result"
    }
   ],
   "source": [
    "import math\n",
    "\n",
    "math.ceil(23.1)"
   ]
  },
  {
   "cell_type": "code",
   "execution_count": 21,
   "id": "f7d3ad50",
   "metadata": {},
   "outputs": [
    {
     "name": "stdout",
     "output_type": "stream",
     "text": [
      "5\n",
      "10\n"
     ]
    }
   ],
   "source": [
    "a = 5\n",
    "print(a)\n",
    "\n",
    "a = a +5\n",
    "print(a)"
   ]
  },
  {
   "cell_type": "markdown",
   "id": "e344b2b8",
   "metadata": {},
   "source": [
    "# User Input"
   ]
  },
  {
   "cell_type": "code",
   "execution_count": 22,
   "id": "3577f276",
   "metadata": {
    "scrolled": true
   },
   "outputs": [
    {
     "name": "stdout",
     "output_type": "stream",
     "text": [
      "Enter Your age  15\n",
      "Enter Your hobby  swimming\n",
      "Enter Your Name  Bilal\n"
     ]
    }
   ],
   "source": [
    "age = input(\"Enter Your age  \") + input(\"Enter Your hobby  \") +  input(\"Enter Your Name  \")"
   ]
  },
  {
   "cell_type": "code",
   "execution_count": 23,
   "id": "55d3eea7",
   "metadata": {
    "scrolled": true
   },
   "outputs": [
    {
     "name": "stdout",
     "output_type": "stream",
     "text": [
      "Enter your name\tBial\n"
     ]
    }
   ],
   "source": [
    "name =  input(\"Enter your name\\t\")"
   ]
  },
  {
   "cell_type": "code",
   "execution_count": 24,
   "id": "6556e5b1",
   "metadata": {},
   "outputs": [
    {
     "data": {
      "text/plain": [
       "'Bial  15swimmingBilal'"
      ]
     },
     "execution_count": 24,
     "metadata": {},
     "output_type": "execute_result"
    }
   ],
   "source": [
    "Biodata = name+ \"  \" + age\n",
    "Biodata"
   ]
  },
  {
   "cell_type": "code",
   "execution_count": 25,
   "id": "83b03f68",
   "metadata": {},
   "outputs": [
    {
     "name": "stdout",
     "output_type": "stream",
     "text": [
      "Age; 15\n",
      "Age; 16\n"
     ]
    },
    {
     "data": {
      "text/plain": [
       "31"
      ]
     },
     "execution_count": 25,
     "metadata": {},
     "output_type": "execute_result"
    }
   ],
   "source": [
    "age1 = int (input(\"Age; \"))\n",
    "age2 = int(input(\"Age; \"))\n",
    "age = age1 + age2\n",
    "age"
   ]
  },
  {
   "cell_type": "code",
   "execution_count": 50,
   "id": "bbca2485",
   "metadata": {},
   "outputs": [
    {
     "name": "stdout",
     "output_type": "stream",
     "text": [
      "Age; 11\n",
      "Age; 33\n"
     ]
    },
    {
     "data": {
      "text/plain": [
       "'1133'"
      ]
     },
     "execution_count": 50,
     "metadata": {},
     "output_type": "execute_result"
    }
   ],
   "source": [
    "age1 = input(\"Age; \")\n",
    "age2 = input(\"Age; \")\n",
    "age = age1 + age2\n",
    "age\n"
   ]
  },
  {
   "cell_type": "markdown",
   "id": "99d89584",
   "metadata": {},
   "source": [
    "# CLASS 3 "
   ]
  },
  {
   "cell_type": "markdown",
   "id": "f080e5ab",
   "metadata": {},
   "source": [
    "# String Formation\n"
   ]
  },
  {
   "cell_type": "code",
   "execution_count": null,
   "id": "f310bc38",
   "metadata": {},
   "outputs": [],
   "source": []
  },
  {
   "cell_type": "code",
   "execution_count": 48,
   "id": "8795d13b",
   "metadata": {},
   "outputs": [
    {
     "name": "stdout",
     "output_type": "stream",
     "text": [
      "Enter a Manufacturer25.6\n",
      "Enter a number55\n",
      "Enter price36\n",
      "You have ordered 25,  the unit of company is 55, price per unit is : 36\n"
     ]
    }
   ],
   "source": [
    "company = int(float(input(\"Enter a Manufacturer\")))\n",
    "no_of_units = int(input(\"Enter a number\"))\n",
    "price_per_unit = int(input(\"Enter price\"))\n",
    "\n",
    "print(f\"You have ordered {company},  the unit of company is {no_of_units}, price per unit is : {price_per_unit}\")"
   ]
  },
  {
   "cell_type": "code",
   "execution_count": 29,
   "id": "5750390d",
   "metadata": {},
   "outputs": [
    {
     "name": "stdout",
     "output_type": "stream",
     "text": [
      "my fame\n",
      "Enter NameBilal\n"
     ]
    },
    {
     "data": {
      "text/plain": [
       "'Bilal'"
      ]
     },
     "execution_count": 29,
     "metadata": {},
     "output_type": "execute_result"
    }
   ],
   "source": [
    "print(\"my fame\")\n",
    "input(\"Enter Name\")"
   ]
  },
  {
   "cell_type": "code",
   "execution_count": 34,
   "id": "881f6f09",
   "metadata": {},
   "outputs": [
    {
     "data": {
      "text/plain": [
       "'my name is Bilal. I am a student and I am 29 years old'"
      ]
     },
     "execution_count": 34,
     "metadata": {},
     "output_type": "execute_result"
    }
   ],
   "source": [
    "\"my name is {}. I am a {} and I am {} years old\".format(\"Bilal\", \"student\", 29)\n",
    "                                            #  Positions  0           1      2\n",
    "\n",
    "    #OR\n",
    "#\"my name is {0}. I am a {1} and I am {2} years old. Please call me {0}\".format(\"Bilal\", \"student\", 29)\n",
    "                                            #  Positions  0           1      2\n",
    "    "
   ]
  },
  {
   "cell_type": "code",
   "execution_count": 49,
   "id": "00b0b444",
   "metadata": {},
   "outputs": [
    {
     "name": "stdout",
     "output_type": "stream",
     "text": [
      "last line\n"
     ]
    },
    {
     "data": {
      "text/plain": [
       "'Pakistan'"
      ]
     },
     "execution_count": 49,
     "metadata": {},
     "output_type": "execute_result"
    }
   ],
   "source": [
    "name = \"Pakistan\"\n",
    "print(\"last line\")\n",
    "name"
   ]
  },
  {
   "cell_type": "code",
   "execution_count": 42,
   "id": "711a55e6",
   "metadata": {},
   "outputs": [
    {
     "data": {
      "text/plain": [
       "1947"
      ]
     },
     "execution_count": 42,
     "metadata": {},
     "output_type": "execute_result"
    }
   ],
   "source": [
    "\n",
    "name = \"Pakistan\"\n",
    "dob = 1947\n",
    "name\n",
    "dob"
   ]
  },
  {
   "cell_type": "code",
   "execution_count": 46,
   "id": "9fe4b17b",
   "metadata": {},
   "outputs": [
    {
     "name": "stdout",
     "output_type": "stream",
     "text": [
      "I am your country Pakistan,  i was born in 1947\n"
     ]
    }
   ],
   "source": [
    "# Another method of string formation\n",
    "\n",
    "print(f\"I am your country {name},  i was born in {dob}\")\n",
    "# f is used to take the values"
   ]
  },
  {
   "cell_type": "code",
   "execution_count": null,
   "id": "79415457",
   "metadata": {},
   "outputs": [],
   "source": []
  }
 ],
 "metadata": {
  "kernelspec": {
   "display_name": "Python 3 (ipykernel)",
   "language": "python",
   "name": "python3"
  },
  "language_info": {
   "codemirror_mode": {
    "name": "ipython",
    "version": 3
   },
   "file_extension": ".py",
   "mimetype": "text/x-python",
   "name": "python",
   "nbconvert_exporter": "python",
   "pygments_lexer": "ipython3",
   "version": "3.9.7"
  }
 },
 "nbformat": 4,
 "nbformat_minor": 5
}
