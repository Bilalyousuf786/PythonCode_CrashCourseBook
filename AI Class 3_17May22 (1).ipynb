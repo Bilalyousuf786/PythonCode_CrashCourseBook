{
 "cells": [
  {
   "cell_type": "code",
   "execution_count": 2,
   "id": "661a53ba",
   "metadata": {},
   "outputs": [
    {
     "name": "stdout",
     "output_type": "stream",
     "text": [
      "Enter a Manufacturer2.5\n",
      "Enter a number5\n",
      "Enter price3\n",
      "You have ordered 2,  the unit of company is 5, price per unit is : 3\n"
     ]
    }
   ],
   "source": [
    "company = int(float(input(\"Enter a Manufacturer\")))\n",
    "no_of_units = int(input(\"Enter a number\"))\n",
    "price_per_unit = int(input(\"Enter price\"))\n",
    "\n",
    "print(f\"You have ordered {company},  the unit of company is {no_of_units}, price per unit is : {price_per_unit}\")"
   ]
  },
  {
   "cell_type": "code",
   "execution_count": 4,
   "id": "3db732f7",
   "metadata": {},
   "outputs": [
    {
     "data": {
      "text/plain": [
       "'my name is Bilal. I am a student and I am 23 years old'"
      ]
     },
     "execution_count": 4,
     "metadata": {},
     "output_type": "execute_result"
    }
   ],
   "source": [
    "\"my name is {}. I am a {} and I am {} years old\".format(\"Bilal\", \"student\", 23)\n",
    "                                            #  Positions  0           1      2\n",
    "\n",
    "    #OR\n",
    "#\"my name is {0}. I am a {1} and I am {2} years old. Please call me {0}\".format(\"Bilal\", \"student\", 29)\n",
    "                                            #  Positions  0           1      2\n",
    "    "
   ]
  },
  {
   "cell_type": "code",
   "execution_count": 3,
   "id": "60d80394",
   "metadata": {},
   "outputs": [
    {
     "name": "stdout",
     "output_type": "stream",
     "text": [
      "last line\n"
     ]
    },
    {
     "data": {
      "text/plain": [
       "'Pakistan'"
      ]
     },
     "execution_count": 3,
     "metadata": {},
     "output_type": "execute_result"
    }
   ],
   "source": [
    "name = \"Pakistan\"\n",
    "print(\"last line\")\n",
    "name"
   ]
  },
  {
   "cell_type": "code",
   "execution_count": 8,
   "id": "13977fa4",
   "metadata": {},
   "outputs": [],
   "source": [
    "name = \"Pakistan\"\n",
    "dob = 1947"
   ]
  },
  {
   "cell_type": "code",
   "execution_count": 9,
   "id": "60b4f460",
   "metadata": {},
   "outputs": [
    {
     "name": "stdout",
     "output_type": "stream",
     "text": [
      "I am your country Pakistan,  i was born in 1947\n"
     ]
    }
   ],
   "source": [
    "# ANOTHER method of string formation\n",
    "\n",
    "print(f\"I am your country {name},  i was born in {dob}\")\n",
    "# f is used to take the values"
   ]
  },
  {
   "cell_type": "code",
   "execution_count": 6,
   "id": "9fc2a1ac",
   "metadata": {},
   "outputs": [],
   "source": [
    "# \n",
    "value1 = \"I am a string value\"\n",
    "value2 = 'I am also a string value'\n",
    "value3 = '''I am also a string value'''"
   ]
  },
  {
   "cell_type": "code",
   "execution_count": 7,
   "id": "61266e67",
   "metadata": {},
   "outputs": [
    {
     "name": "stdout",
     "output_type": "stream",
     "text": [
      "You are all students of \"Saylani Mass IT Training Deptt\"\n"
     ]
    }
   ],
   "source": [
    "print('You are all students of \"Saylani Mass IT Training Deptt\"')"
   ]
  },
  {
   "cell_type": "code",
   "execution_count": 8,
   "id": "357e4b06",
   "metadata": {},
   "outputs": [
    {
     "name": "stdout",
     "output_type": "stream",
     "text": [
      "You are all students of \"Saylani Mass IT Training Deptt\"\n"
     ]
    }
   ],
   "source": [
    "print(\"You are all students of \\\"Saylani Mass IT Training Deptt\\\"\")"
   ]
  },
  {
   "cell_type": "code",
   "execution_count": 11,
   "id": "b96532bc",
   "metadata": {},
   "outputs": [
    {
     "name": "stdout",
     "output_type": "stream",
     "text": [
      "You are all students of \"Saylani Mass IT Training Deptt\"\n"
     ]
    }
   ],
   "source": [
    "print('''You are all students of \"Saylani Mass IT Training Deptt\"''')"
   ]
  },
  {
   "cell_type": "markdown",
   "id": "3af33b7f",
   "metadata": {},
   "source": [
    "# MULTILINE STRING FORMATION"
   ]
  },
  {
   "cell_type": "raw",
   "id": "11915cd5",
   "metadata": {},
   "source": [
    "               SAYLANI MASS IT \n",
    "    \n",
    "    NAME : BILAL \n",
    "    COURSE : AI & DS\n",
    "    CLASS : 7 - 10"
   ]
  },
  {
   "cell_type": "code",
   "execution_count": 15,
   "id": "a742d3c5",
   "metadata": {},
   "outputs": [
    {
     "data": {
      "text/plain": [
       "'                SAYLANI MASS IT \\n\\n Name: Bilal \\n Course: AI & DS \\n Class : 7 - 10          '"
      ]
     },
     "execution_count": 15,
     "metadata": {},
     "output_type": "execute_result"
    }
   ],
   "source": [
    "\"                SAYLANI MASS IT \\n\\n Name: Bilal \\n Course: AI & DS \\n Class : 7 - 10          \""
   ]
  },
  {
   "cell_type": "code",
   "execution_count": 16,
   "id": "5c1bc088",
   "metadata": {},
   "outputs": [
    {
     "name": "stdout",
     "output_type": "stream",
     "text": [
      "Enter your nameBilal\n",
      "Course NameDS & AI\n",
      "Class Timing 3-7\n",
      "              SAYLANI MASS IT TRAINING\n",
      "Name: Bilal\n",
      "Course: DS & AI\n",
      "Class Timing: 3-7\n",
      "\n"
     ]
    }
   ],
   "source": [
    "# use 3 times single or double qote.\n",
    "\n",
    "student_name = input(\"Enter your name\")\n",
    "course = input(\"Course Name\")\n",
    "classTime = input(\"Class Timing \")\n",
    "\n",
    "print(f\"\"\"              SAYLANI MASS IT TRAINING\n",
    "Name: {student_name}\n",
    "Course: {course}\n",
    "Class Timing: {classTime}\n",
    "\"\"\")"
   ]
  },
  {
   "cell_type": "code",
   "execution_count": 18,
   "id": "c9fb8a28",
   "metadata": {},
   "outputs": [
    {
     "name": "stdout",
     "output_type": "stream",
     "text": [
      "Enter Groom nameBilal\n",
      "Enter Bride NameAalia\n",
      "place PC hotel\n",
      "timing10-12\n",
      "             WEDDING CARD\n",
      "Name: Bilal\n",
      "Course: Aalia\n",
      "Venue: PC hotel\n",
      "Timing: 10-12\n",
      "\n"
     ]
    }
   ],
   "source": [
    "groom_name = input(\"Enter Groom name\")\n",
    "bride_name = input(\"Enter Bride Name\")\n",
    "venue = input(\"place \")\n",
    "timing = input(\"timing\")\n",
    "\n",
    "print(f\"\"\"             WEDDING CARD\n",
    "Name: {groom_name}\n",
    "Course: {bride_name}\n",
    "Venue: {venue}\n",
    "Timing: {timing}\n",
    "\"\"\")"
   ]
  },
  {
   "cell_type": "code",
   "execution_count": 19,
   "id": "8f7d93f6",
   "metadata": {},
   "outputs": [],
   "source": [
    "para = (\"We are studying AI & DS. Thanks SMIT for great effort\")"
   ]
  },
  {
   "cell_type": "code",
   "execution_count": 32,
   "id": "28eacfad",
   "metadata": {},
   "outputs": [
    {
     "data": {
      "text/plain": [
       "'WE ARE STUDYING AI & DS. THANKS SMIT FOR GREAT EFFORT'"
      ]
     },
     "execution_count": 32,
     "metadata": {},
     "output_type": "execute_result"
    }
   ],
   "source": [
    "para.upper()"
   ]
  },
  {
   "cell_type": "code",
   "execution_count": 40,
   "id": "5b0a75a4",
   "metadata": {},
   "outputs": [
    {
     "data": {
      "text/plain": [
       "32"
      ]
     },
     "execution_count": 40,
     "metadata": {},
     "output_type": "execute_result"
    }
   ],
   "source": [
    "para = (\"We are studying AI & DS. Thanks SMIT for great effort\")\n",
    "para.find(\"SMIT\")"
   ]
  },
  {
   "cell_type": "code",
   "execution_count": 11,
   "id": "7fcb1752",
   "metadata": {},
   "outputs": [
    {
     "data": {
      "text/plain": [
       "16"
      ]
     },
     "execution_count": 11,
     "metadata": {},
     "output_type": "execute_result"
    }
   ],
   "source": [
    "para = (\"We are studying AI & DS. Thanks SMIT for great effort AI and DS\")\n",
    "para.find(\"AI\", 17)"
   ]
  },
  {
   "cell_type": "code",
   "execution_count": 12,
   "id": "c3026597",
   "metadata": {},
   "outputs": [
    {
     "data": {
      "text/plain": [
       "2"
      ]
     },
     "execution_count": 12,
     "metadata": {},
     "output_type": "execute_result"
    }
   ],
   "source": [
    "para = (\"We are studying AI & DS. Thanks SMIT for great effort AI and DS\")\n",
    "para.count(\"AI\")"
   ]
  },
  {
   "cell_type": "code",
   "execution_count": 49,
   "id": "e2f2215e",
   "metadata": {},
   "outputs": [
    {
     "data": {
      "text/plain": [
       "32"
      ]
     },
     "execution_count": 49,
     "metadata": {},
     "output_type": "execute_result"
    }
   ],
   "source": [
    "para = (\"We are studying AI & DS. Thanks SMIT for great effort\")\n",
    "para.lower().find(\"smit\")"
   ]
  },
  {
   "cell_type": "code",
   "execution_count": 56,
   "id": "b14411bf",
   "metadata": {},
   "outputs": [
    {
     "data": {
      "text/plain": [
       "'we are studying ai & ds. thanks SAYLANI_MASS_IT_TRAINING for great effort'"
      ]
     },
     "execution_count": 56,
     "metadata": {},
     "output_type": "execute_result"
    }
   ],
   "source": [
    "para = (\"We are studying AI & DS. Thanks SMIT for great effort\")\n",
    "para.lower().replace(\"smit\", \"SAYLANI_MASS_IT_TRAINING\")"
   ]
  },
  {
   "cell_type": "code",
   "execution_count": 58,
   "id": "0b1b98a3",
   "metadata": {},
   "outputs": [
    {
     "ename": "AttributeError",
     "evalue": "'str' object has no attribute 'str'",
     "output_type": "error",
     "traceback": [
      "\u001b[1;31m---------------------------------------------------------------------------\u001b[0m",
      "\u001b[1;31mAttributeError\u001b[0m                            Traceback (most recent call last)",
      "\u001b[1;32mC:\\Users\\LAB01R~1\\AppData\\Local\\Temp/ipykernel_3544/3941049301.py\u001b[0m in \u001b[0;36m<module>\u001b[1;34m\u001b[0m\n\u001b[1;32m----> 1\u001b[1;33m \u001b[0mpara\u001b[0m\u001b[1;33m.\u001b[0m\u001b[0mlower\u001b[0m\u001b[1;33m(\u001b[0m\u001b[1;33m)\u001b[0m\u001b[1;33m.\u001b[0m\u001b[0mreplace\u001b[0m\u001b[1;33m(\u001b[0m\u001b[0mpara\u001b[0m\u001b[1;33m.\u001b[0m\u001b[0mlower\u001b[0m\u001b[1;33m(\u001b[0m\u001b[1;33m)\u001b[0m\u001b[1;33m.\u001b[0m\u001b[0mstr\u001b[0m\u001b[1;33m(\u001b[0m\u001b[0mfind\u001b[0m\u001b[1;33m(\u001b[0m\u001b[1;34m\"smit\"\u001b[0m\u001b[1;33m)\u001b[0m\u001b[1;33m)\u001b[0m\u001b[1;33m,\u001b[0m \u001b[1;34m\"SAYLANI_MASS_IT_TRAINING\"\u001b[0m\u001b[1;33m)\u001b[0m\u001b[1;33m\u001b[0m\u001b[1;33m\u001b[0m\u001b[0m\n\u001b[0m",
      "\u001b[1;31mAttributeError\u001b[0m: 'str' object has no attribute 'str'"
     ]
    }
   ],
   "source": [
    "para.lower().replace(para.lower().str(find(\"smit\")), \"SAYLANI_MASS_IT_TRAINING\")"
   ]
  },
  {
   "cell_type": "code",
   "execution_count": 60,
   "id": "b9fa614f",
   "metadata": {},
   "outputs": [
    {
     "data": {
      "text/plain": [
       "True"
      ]
     },
     "execution_count": 60,
     "metadata": {},
     "output_type": "execute_result"
    }
   ],
   "source": [
    "\"abcd\".isalpha()"
   ]
  },
  {
   "cell_type": "code",
   "execution_count": 64,
   "id": "35a383be",
   "metadata": {},
   "outputs": [
    {
     "data": {
      "text/plain": [
       "7"
      ]
     },
     "execution_count": 64,
     "metadata": {},
     "output_type": "execute_result"
    }
   ],
   "source": [
    "name = \" Nasir \"\n",
    "name\n",
    "len(name)"
   ]
  },
  {
   "cell_type": "code",
   "execution_count": 71,
   "id": "4a5b1240",
   "metadata": {},
   "outputs": [
    {
     "data": {
      "text/plain": [
       "'Nasir '"
      ]
     },
     "execution_count": 71,
     "metadata": {},
     "output_type": "execute_result"
    }
   ],
   "source": [
    "name.lstrip()"
   ]
  },
  {
   "cell_type": "code",
   "execution_count": 78,
   "id": "3cb491f4",
   "metadata": {},
   "outputs": [
    {
     "data": {
      "text/plain": [
       "' Nasir'"
      ]
     },
     "execution_count": 78,
     "metadata": {},
     "output_type": "execute_result"
    }
   ],
   "source": [
    "len(name)\n",
    "name.rstrip()"
   ]
  },
  {
   "cell_type": "code",
   "execution_count": 76,
   "id": "3b6d03c2",
   "metadata": {},
   "outputs": [
    {
     "data": {
      "text/plain": [
       "'Nasir'"
      ]
     },
     "execution_count": 76,
     "metadata": {},
     "output_type": "execute_result"
    }
   ],
   "source": [
    "name.strip()"
   ]
  },
  {
   "cell_type": "code",
   "execution_count": 80,
   "id": "2bb164f4",
   "metadata": {},
   "outputs": [],
   "source": [
    "# Mutable ---- & Immutable => cant change e.g string is iterable but immutable  "
   ]
  },
  {
   "cell_type": "code",
   "execution_count": 15,
   "id": "c159f627",
   "metadata": {},
   "outputs": [],
   "source": [
    "sen  = \"hello python\""
   ]
  },
  {
   "cell_type": "code",
   "execution_count": 16,
   "id": "13c13f83",
   "metadata": {},
   "outputs": [
    {
     "data": {
      "text/plain": [
       "'h-e-l-l-o- -p-y-t-h-o-n'"
      ]
     },
     "execution_count": 16,
     "metadata": {},
     "output_type": "execute_result"
    }
   ],
   "source": [
    "\"-\".join(sen)"
   ]
  },
  {
   "cell_type": "code",
   "execution_count": 18,
   "id": "f44531c6",
   "metadata": {},
   "outputs": [
    {
     "data": {
      "text/plain": [
       "'we are studying ai & ds. thanks SAYLANI_MASS_IT_TRAINING for great effort'"
      ]
     },
     "execution_count": 18,
     "metadata": {},
     "output_type": "execute_result"
    }
   ],
   "source": [
    "para = (\"We are studying AI & DS. Thanks SMIT for great effort\")\n",
    "para.casefold().replace(\"smit\", \"SAYLANI_MASS_IT_TRAINING\")"
   ]
  },
  {
   "cell_type": "code",
   "execution_count": 22,
   "id": "49453474",
   "metadata": {},
   "outputs": [
    {
     "data": {
      "text/plain": [
       "'hello'"
      ]
     },
     "execution_count": 22,
     "metadata": {},
     "output_type": "execute_result"
    }
   ],
   "source": [
    "sen  = \"hello\"\n",
    "sen.expandtabs(5)\n"
   ]
  },
  {
   "cell_type": "code",
   "execution_count": 27,
   "id": "bd307395",
   "metadata": {},
   "outputs": [
    {
     "name": "stdout",
     "output_type": "stream",
     "text": [
      "H e l l o\n"
     ]
    }
   ],
   "source": [
    "txt = \"H\\te\\tl\\tl\\to\"\n",
    "\n",
    "x =  txt.expandtabs(2)\n",
    "\n",
    "print(x)"
   ]
  },
  {
   "cell_type": "code",
   "execution_count": 28,
   "id": "f9f030d1",
   "metadata": {},
   "outputs": [
    {
     "name": "stdout",
     "output_type": "stream",
     "text": [
      "H e l l o\n",
      "H   e   l   l   o\n",
      "H         e         l         l         o\n"
     ]
    }
   ],
   "source": [
    "txt = \"H\\te\\tl\\tl\\to\"\n",
    "\n",
    "print(txt.expandtabs(2))\n",
    "print(txt.expandtabs(4))\n",
    "print(txt.expandtabs(10))"
   ]
  },
  {
   "cell_type": "code",
   "execution_count": 36,
   "id": "ba4b5750",
   "metadata": {},
   "outputs": [
    {
     "name": "stdout",
     "output_type": "stream",
     "text": [
      "b'My name is Bil\\xc3\\xa5l'\n"
     ]
    }
   ],
   "source": [
    "txt = \"My name is Bilål\"\n",
    "\n",
    "x = txt.encode()\n",
    "\n",
    "print(x)\n"
   ]
  },
  {
   "cell_type": "code",
   "execution_count": 35,
   "id": "3eb0c498",
   "metadata": {},
   "outputs": [
    {
     "name": "stdout",
     "output_type": "stream",
     "text": [
      "7\n"
     ]
    }
   ],
   "source": [
    "txt = \"Hello, welcome to my world.\"\n",
    "\n",
    "x = txt.index(\"welcome\")\n",
    "\n",
    "print(x)"
   ]
  },
  {
   "cell_type": "code",
   "execution_count": 37,
   "id": "132efd9a",
   "metadata": {},
   "outputs": [
    {
     "name": "stdout",
     "output_type": "stream",
     "text": [
      "For only 49.00 dollars!\n"
     ]
    }
   ],
   "source": [
    "txt = \"For only {price:.2f} dollars!\"\n",
    "print(txt.format(price = 49))"
   ]
  },
  {
   "cell_type": "code",
   "execution_count": 38,
   "id": "8d9b0564",
   "metadata": {},
   "outputs": [
    {
     "name": "stdout",
     "output_type": "stream",
     "text": [
      "True\n"
     ]
    }
   ],
   "source": [
    "txt = \"Company12\"\n",
    "\n",
    "x = txt.isalnum()\n",
    "\n",
    "print(x)"
   ]
  },
  {
   "cell_type": "code",
   "execution_count": 39,
   "id": "cbf278b5",
   "metadata": {},
   "outputs": [
    {
     "name": "stdout",
     "output_type": "stream",
     "text": [
      "True\n"
     ]
    }
   ],
   "source": [
    "txt = \"CompanyX\"\n",
    "\n",
    "x = txt.isalpha()\n",
    "\n",
    "print(x)"
   ]
  },
  {
   "cell_type": "code",
   "execution_count": 40,
   "id": "9e83a8cb",
   "metadata": {},
   "outputs": [
    {
     "name": "stdout",
     "output_type": "stream",
     "text": [
      "True\n"
     ]
    }
   ],
   "source": [
    "txt = \"\\u0033\" #unicode for 3\n",
    "\n",
    "x = txt.isdecimal()\n",
    "\n",
    "print(x)\n"
   ]
  },
  {
   "cell_type": "code",
   "execution_count": 41,
   "id": "0b5e5371",
   "metadata": {},
   "outputs": [
    {
     "name": "stdout",
     "output_type": "stream",
     "text": [
      "True\n",
      "False\n"
     ]
    }
   ],
   "source": [
    "txt = \"50800\"\n",
    "x = txt.isdigit()\n",
    "print(x)\n",
    "\n",
    "txt1 = \"5.0800\"\n",
    "x1 = txt1.isdigit()\n",
    "print(x1)"
   ]
  },
  {
   "cell_type": "code",
   "execution_count": 43,
   "id": "526f479b",
   "metadata": {},
   "outputs": [
    {
     "name": "stdout",
     "output_type": "stream",
     "text": [
      "False\n",
      "True\n"
     ]
    }
   ],
   "source": [
    "txt = \"Demo1//\"\n",
    "x = txt.isidentifier()\n",
    "print(x)\n",
    "\n",
    "txt1 = \"Demo1\"\n",
    "x1 = txt1.isidentifier()\n",
    "print(x1)\n"
   ]
  },
  {
   "cell_type": "code",
   "execution_count": 44,
   "id": "dd675467",
   "metadata": {},
   "outputs": [
    {
     "name": "stdout",
     "output_type": "stream",
     "text": [
      "False\n",
      "True\n"
     ]
    }
   ],
   "source": [
    "txt = \"\"\n",
    "x = txt.isspace()\n",
    "print(x)\n",
    "\n",
    "txt1 = \"   \"\n",
    "x1 = txt1.isspace()\n",
    "print(x1)"
   ]
  },
  {
   "cell_type": "code",
   "execution_count": 45,
   "id": "549b2f10",
   "metadata": {},
   "outputs": [
    {
     "name": "stdout",
     "output_type": "stream",
     "text": [
      "banana               is my favorite fruit.\n"
     ]
    }
   ],
   "source": [
    "txt = \"banana\"\n",
    "x = txt.ljust(20)\n",
    "print(x, \"is my favorite fruit.\")"
   ]
  },
  {
   "cell_type": "code",
   "execution_count": 46,
   "id": "fc06faf3",
   "metadata": {},
   "outputs": [
    {
     "name": "stdout",
     "output_type": "stream",
     "text": [
      "Hello Nam!\n"
     ]
    }
   ],
   "source": [
    "txt = \"Hello Sam!\"\n",
    "\n",
    "mytable = txt.maketrans(\"S\", \"N\")\n",
    "\n",
    "print(txt.translate(mytable))"
   ]
  },
  {
   "cell_type": "code",
   "execution_count": 47,
   "id": "ce8a846b",
   "metadata": {},
   "outputs": [
    {
     "name": "stdout",
     "output_type": "stream",
     "text": [
      "('I could eat ', 'bananas', ' all day')\n"
     ]
    }
   ],
   "source": [
    "txt = \"I could eat bananas all day\"\n",
    "\n",
    "x = txt.partition(\"bananas\")\n",
    "\n",
    "print(x)"
   ]
  },
  {
   "cell_type": "code",
   "execution_count": 48,
   "id": "2bddb1e6",
   "metadata": {},
   "outputs": [
    {
     "name": "stdout",
     "output_type": "stream",
     "text": [
      "12\n"
     ]
    }
   ],
   "source": [
    "# The rfind() method finds the last occurrence of the specified value. The rfind() method returns -1 if the value is not found.\n",
    "#The rfind() method is almost the same as the rindex()\n",
    "\n",
    "txt = \"Mi casa, su casa.\"\n",
    "\n",
    "x = txt.rfind(\"casa\")\n",
    "\n",
    "print(x)"
   ]
  },
  {
   "cell_type": "code",
   "execution_count": 49,
   "id": "991782a6",
   "metadata": {},
   "outputs": [
    {
     "name": "stdout",
     "output_type": "stream",
     "text": [
      "              banana is my favorite fruit.\n"
     ]
    }
   ],
   "source": [
    "txt = \"banana\"\n",
    "\n",
    "x = txt.rjust(20)\n",
    "\n",
    "print(x, \"is my favorite fruit.\")"
   ]
  },
  {
   "cell_type": "code",
   "execution_count": 50,
   "id": "a13544c6",
   "metadata": {},
   "outputs": [
    {
     "name": "stdout",
     "output_type": "stream",
     "text": [
      "['welcome', 'to', 'the', 'jungle']\n"
     ]
    }
   ],
   "source": [
    "txt = \"welcome to the jungle\"\n",
    "\n",
    "x = txt.split()\n",
    "\n",
    "print(x)"
   ]
  },
  {
   "cell_type": "code",
   "execution_count": 51,
   "id": "c00e3974",
   "metadata": {},
   "outputs": [
    {
     "name": "stdout",
     "output_type": "stream",
     "text": [
      "['Thank you for the music', 'Welcome to the jungle']\n"
     ]
    }
   ],
   "source": [
    "txt = \"Thank you for the music\\nWelcome to the jungle\"\n",
    "\n",
    "x = txt.splitlines()\n",
    "\n",
    "print(x)"
   ]
  },
  {
   "cell_type": "code",
   "execution_count": 52,
   "id": "248dbfb5",
   "metadata": {},
   "outputs": [
    {
     "name": "stdout",
     "output_type": "stream",
     "text": [
      "hELLO mY nAME iS peter\n"
     ]
    }
   ],
   "source": [
    "txt = \"Hello My Name Is PETER\"\n",
    "\n",
    "x = txt.swapcase()\n",
    "\n",
    "print(x)\n"
   ]
  },
  {
   "cell_type": "code",
   "execution_count": 57,
   "id": "99c2316f",
   "metadata": {},
   "outputs": [],
   "source": [
    "a = \"bilal\""
   ]
  },
  {
   "cell_type": "code",
   "execution_count": 58,
   "id": "9737799b",
   "metadata": {},
   "outputs": [
    {
     "name": "stdout",
     "output_type": "stream",
     "text": [
      "Hello bilal How are you \n"
     ]
    }
   ],
   "source": [
    "print(\"Hello\", a, \"How are you \")"
   ]
  },
  {
   "cell_type": "code",
   "execution_count": 60,
   "id": "84170f50",
   "metadata": {},
   "outputs": [
    {
     "name": "stdout",
     "output_type": "stream",
     "text": [
      "Hello bilal How are you \n",
      "Hello BILAL How are you \n"
     ]
    }
   ],
   "source": [
    "a = \"bilal\"\n",
    "print(\"Hello\", a.lower(), \"How are you \")\n",
    "print(\"Hello\", a.upper(), \"How are you \")"
   ]
  },
  {
   "cell_type": "code",
   "execution_count": 64,
   "id": "a7600844",
   "metadata": {},
   "outputs": [
    {
     "name": "stdout",
     "output_type": "stream",
     "text": [
      "dfd\n",
      "dfd\n",
      "sdffsldafjskdf\n",
      "Famous Quote is  sdffsldafjskdf\n"
     ]
    }
   ],
   "source": [
    "author = input(\"\")\n",
    "print(\"Author's name\", author)\n",
    "quote = input(\"\")\n",
    "print(\"Famous Quote is \",quote)"
   ]
  },
  {
   "cell_type": "code",
   "execution_count": 70,
   "id": "dc1e079a",
   "metadata": {},
   "outputs": [
    {
     "name": "stdout",
     "output_type": "stream",
     "text": [
      "Bilal\n",
      "How are you\n"
     ]
    }
   ],
   "source": [
    "famous_person = \"Bilal\"\n",
    "print(famous_person)\n",
    "\n",
    "message = \"How are you\"\n",
    "print(message)"
   ]
  },
  {
   "cell_type": "code",
   "execution_count": 69,
   "id": "a7a12219",
   "metadata": {},
   "outputs": [
    {
     "data": {
      "text/plain": [
       "'    Bilal'"
      ]
     },
     "execution_count": 69,
     "metadata": {},
     "output_type": "execute_result"
    }
   ],
   "source": [
    "name = \"    Bilal \"\n",
    "name.rstrip()\n"
   ]
  },
  {
   "cell_type": "code",
   "execution_count": null,
   "id": "682bcc12",
   "metadata": {},
   "outputs": [],
   "source": []
  }
 ],
 "metadata": {
  "kernelspec": {
   "display_name": "Python 3 (ipykernel)",
   "language": "python",
   "name": "python3"
  },
  "language_info": {
   "codemirror_mode": {
    "name": "ipython",
    "version": 3
   },
   "file_extension": ".py",
   "mimetype": "text/x-python",
   "name": "python",
   "nbconvert_exporter": "python",
   "pygments_lexer": "ipython3",
   "version": "3.9.7"
  }
 },
 "nbformat": 4,
 "nbformat_minor": 5
}
