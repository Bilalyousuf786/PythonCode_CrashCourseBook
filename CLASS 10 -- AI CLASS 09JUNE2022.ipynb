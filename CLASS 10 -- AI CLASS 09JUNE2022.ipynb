{
 "cells": [
  {
   "cell_type": "code",
   "execution_count": 1,
   "id": "702794f1",
   "metadata": {},
   "outputs": [],
   "source": [
    "name = \"PAKISTAN\""
   ]
  },
  {
   "cell_type": "code",
   "execution_count": 4,
   "id": "86a8158a",
   "metadata": {},
   "outputs": [
    {
     "name": "stdout",
     "output_type": "stream",
     "text": [
      "N A T S I K A P "
     ]
    }
   ],
   "source": [
    "for char in name[::-1]:\n",
    "    print(char, end=\" \")"
   ]
  },
  {
   "cell_type": "code",
   "execution_count": 5,
   "id": "3e168255",
   "metadata": {},
   "outputs": [],
   "source": [
    "lst = [11,22,33,44]\n"
   ]
  },
  {
   "cell_type": "code",
   "execution_count": 6,
   "id": "4079dbfc",
   "metadata": {},
   "outputs": [
    {
     "data": {
      "text/plain": [
       "44"
      ]
     },
     "execution_count": 6,
     "metadata": {},
     "output_type": "execute_result"
    }
   ],
   "source": [
    "lst[-1]"
   ]
  },
  {
   "cell_type": "code",
   "execution_count": 8,
   "id": "11c849f0",
   "metadata": {},
   "outputs": [
    {
     "data": {
      "text/plain": [
       "[44, 33, 22]"
      ]
     },
     "execution_count": 8,
     "metadata": {},
     "output_type": "execute_result"
    }
   ],
   "source": [
    "lst[3:0:-1]"
   ]
  },
  {
   "cell_type": "code",
   "execution_count": 9,
   "id": "8d972d8e",
   "metadata": {},
   "outputs": [
    {
     "data": {
      "text/plain": [
       "[44, 33, 22, 11]"
      ]
     },
     "execution_count": 9,
     "metadata": {},
     "output_type": "execute_result"
    }
   ],
   "source": [
    "lst[::-1]"
   ]
  },
  {
   "cell_type": "markdown",
   "id": "25f73fde",
   "metadata": {},
   "source": [
    "# 2"
   ]
  },
  {
   "cell_type": "code",
   "execution_count": 10,
   "id": "95cffb13",
   "metadata": {},
   "outputs": [],
   "source": [
    "lst1= [\"Nasir\", \"Bilal\", \"Dildar\", \"Kazim\"]\n",
    "lst2 = [\"Hussain\", \"Akbar\", \"Khan\", \"Hashmi\"]"
   ]
  },
  {
   "cell_type": "code",
   "execution_count": 12,
   "id": "8114da6c",
   "metadata": {},
   "outputs": [
    {
     "name": "stdout",
     "output_type": "stream",
     "text": [
      "Nasir Hussain\n",
      "Nasir Akbar\n",
      "Nasir Khan\n",
      "Nasir Hashmi\n",
      "Bilal Hussain\n",
      "Bilal Akbar\n",
      "Bilal Khan\n",
      "Bilal Hashmi\n",
      "Dildar Hussain\n",
      "Dildar Akbar\n",
      "Dildar Khan\n",
      "Dildar Hashmi\n",
      "Kazim Hussain\n",
      "Kazim Akbar\n",
      "Kazim Khan\n",
      "Kazim Hashmi\n"
     ]
    }
   ],
   "source": [
    "for name in lst1:\n",
    "    for sirname in lst2:\n",
    "        print(f\"{name} {sirname}\")"
   ]
  },
  {
   "cell_type": "code",
   "execution_count": 17,
   "id": "8867fe11",
   "metadata": {},
   "outputs": [
    {
     "ename": "SyntaxError",
     "evalue": "f-string: invalid syntax (Temp/ipykernel_9168/3982662759.py, line 5)",
     "output_type": "error",
     "traceback": [
      "\u001b[1;36m  File \u001b[1;32m\"C:\\Users\\LAB02R~1\\AppData\\Local\\Temp/ipykernel_9168/3982662759.py\"\u001b[1;36m, line \u001b[1;32m5\u001b[0m\n\u001b[1;33m    print(f\"{a} {lst2} {lst1.index{a}}\")\u001b[0m\n\u001b[1;37m           ^\u001b[0m\n\u001b[1;31mSyntaxError\u001b[0m\u001b[1;31m:\u001b[0m f-string: invalid syntax\n"
     ]
    }
   ],
   "source": [
    "lst1= [\"Nasir\", \"Bilal\", \"Dildar\", \"Kazim\"]\n",
    "lst2 = [\"Hussain\", \"Akbar\", \"Khan\", \"Hashmi\"]\n",
    "\n",
    "for a in lst1:\n",
    "    print(f\"{a} {lst2 {lst1.index{a}}\")"
   ]
  },
  {
   "cell_type": "code",
   "execution_count": 23,
   "id": "4a420660",
   "metadata": {},
   "outputs": [],
   "source": [
    "val1 = [1,2,3,4,5,6,7,8,9]\n",
    "val12 = [1,2,3,4,5,6,7,8,9]\n",
    "\n"
   ]
  },
  {
   "cell_type": "code",
   "execution_count": 26,
   "id": "91528de0",
   "metadata": {},
   "outputs": [
    {
     "name": "stdout",
     "output_type": "stream",
     "text": [
      "1 1\n",
      "2 2\n",
      "3 3\n",
      "4 4\n",
      "5 5\n",
      "6 6\n",
      "7 7\n",
      "8 8\n",
      "9 9\n"
     ]
    }
   ],
   "source": [
    "for a in val1:\n",
    "    print(f\"{a} {val12 [val1.index(a)]}\")"
   ]
  },
  {
   "cell_type": "markdown",
   "id": "e773e178",
   "metadata": {},
   "source": [
    "# DICTIONARY"
   ]
  },
  {
   "cell_type": "code",
   "execution_count": 19,
   "id": "195d6787",
   "metadata": {},
   "outputs": [
    {
     "data": {
      "text/plain": [
       "dict"
      ]
     },
     "execution_count": 19,
     "metadata": {},
     "output_type": "execute_result"
    }
   ],
   "source": [
    "dictionary = {}\n",
    "type(dictionary)"
   ]
  },
  {
   "cell_type": "code",
   "execution_count": 20,
   "id": "1f88a6f4",
   "metadata": {},
   "outputs": [],
   "source": [
    "dictionary = {\"name\":\"Saylani\", \"campus\":\"Gulshan Iqbal\", \"course\":\"AI & DS\"}\n",
    "#              Key    Value      Key      Value            Key      Value"
   ]
  },
  {
   "cell_type": "code",
   "execution_count": 21,
   "id": "240b6f95",
   "metadata": {},
   "outputs": [
    {
     "data": {
      "text/plain": [
       "'Gulshan Iqbal'"
      ]
     },
     "execution_count": 21,
     "metadata": {},
     "output_type": "execute_result"
    }
   ],
   "source": [
    "dictionary['campus']"
   ]
  },
  {
   "cell_type": "code",
   "execution_count": 22,
   "id": "24c759f5",
   "metadata": {},
   "outputs": [
    {
     "data": {
      "text/plain": [
       "'Saylani'"
      ]
     },
     "execution_count": 22,
     "metadata": {},
     "output_type": "execute_result"
    }
   ],
   "source": [
    "dictionary['name']"
   ]
  },
  {
   "cell_type": "code",
   "execution_count": 34,
   "id": "30f73e27",
   "metadata": {},
   "outputs": [],
   "source": [
    "dictionary[\"teacher\"] = \"Nasir\""
   ]
  },
  {
   "cell_type": "code",
   "execution_count": 35,
   "id": "985f0d94",
   "metadata": {},
   "outputs": [
    {
     "data": {
      "text/plain": [
       "{'name': 'Saylani', 'campus': 'Gulshan Iqbal', 'teacher': 'Nasir'}"
      ]
     },
     "execution_count": 35,
     "metadata": {},
     "output_type": "execute_result"
    }
   ],
   "source": [
    "dictionary"
   ]
  },
  {
   "cell_type": "code",
   "execution_count": 29,
   "id": "b5c203dc",
   "metadata": {},
   "outputs": [],
   "source": [
    "# updating of values\n",
    "\n",
    "dictionary[\"teacher\"] = \"Bilal\""
   ]
  },
  {
   "cell_type": "code",
   "execution_count": 30,
   "id": "5e7eac1f",
   "metadata": {},
   "outputs": [
    {
     "data": {
      "text/plain": [
       "{'name': 'Saylani',\n",
       " 'campus': 'Gulshan Iqbal',\n",
       " 'course': 'AI & DS',\n",
       " 'teacher': 'Bilal'}"
      ]
     },
     "execution_count": 30,
     "metadata": {},
     "output_type": "execute_result"
    }
   ],
   "source": [
    "dictionary"
   ]
  },
  {
   "cell_type": "code",
   "execution_count": 31,
   "id": "a947d6bc",
   "metadata": {},
   "outputs": [
    {
     "data": {
      "text/plain": [
       "{'name': 'Saylani', 'campus': 'Gulshan Iqbal', 'teacher': 'Bilal'}"
      ]
     },
     "execution_count": 31,
     "metadata": {},
     "output_type": "execute_result"
    }
   ],
   "source": [
    "del dictionary[\"course\"]\n",
    "dictionary"
   ]
  },
  {
   "cell_type": "markdown",
   "id": "62604e86",
   "metadata": {},
   "source": [
    "# FOR LOOP IN DICTIONARY"
   ]
  },
  {
   "cell_type": "code",
   "execution_count": 36,
   "id": "1884fd6f",
   "metadata": {},
   "outputs": [
    {
     "name": "stdout",
     "output_type": "stream",
     "text": [
      "Babar\n",
      "Rizwan\n",
      "Khushdil\n"
     ]
    }
   ],
   "source": [
    "score = {\"Babar\":\"103\", \"Rizwan\":\"89\", \"Khushdil\":\"43\"}\n",
    "\n",
    "for i in score.keys():\n",
    "    print(i)\n",
    "    "
   ]
  },
  {
   "cell_type": "code",
   "execution_count": 39,
   "id": "633fa42f",
   "metadata": {},
   "outputs": [
    {
     "name": "stdout",
     "output_type": "stream",
     "text": [
      "103\n",
      "89\n",
      "43\n"
     ]
    }
   ],
   "source": [
    "for i in score.values():\n",
    "    print(i)\n",
    "    "
   ]
  },
  {
   "cell_type": "code",
   "execution_count": 41,
   "id": "0b92c700",
   "metadata": {},
   "outputs": [
    {
     "name": "stdout",
     "output_type": "stream",
     "text": [
      "Babar 103\n",
      "Rizwan 89\n",
      "Khushdil 43\n"
     ]
    }
   ],
   "source": [
    "for key,val in score.items():\n",
    "    print(key, val)"
   ]
  },
  {
   "cell_type": "code",
   "execution_count": 42,
   "id": "6dc90fde",
   "metadata": {},
   "outputs": [
    {
     "name": "stdout",
     "output_type": "stream",
     "text": [
      "Babar 103\n",
      "Rizwan 89\n",
      "Khushdil 43\n"
     ]
    }
   ],
   "source": [
    "for key,val in score.items():\n",
    "    print(key, val)"
   ]
  },
  {
   "cell_type": "code",
   "execution_count": 43,
   "id": "4d686e29",
   "metadata": {},
   "outputs": [
    {
     "name": "stdout",
     "output_type": "stream",
     "text": [
      "103\n",
      "89\n",
      "43\n"
     ]
    }
   ],
   "source": [
    "for key in score.keys():\n",
    "    print(score[key])"
   ]
  },
  {
   "cell_type": "code",
   "execution_count": null,
   "id": "99697476",
   "metadata": {},
   "outputs": [],
   "source": []
  }
 ],
 "metadata": {
  "kernelspec": {
   "display_name": "Python 3 (ipykernel)",
   "language": "python",
   "name": "python3"
  },
  "language_info": {
   "codemirror_mode": {
    "name": "ipython",
    "version": 3
   },
   "file_extension": ".py",
   "mimetype": "text/x-python",
   "name": "python",
   "nbconvert_exporter": "python",
   "pygments_lexer": "ipython3",
   "version": "3.9.7"
  }
 },
 "nbformat": 4,
 "nbformat_minor": 5
}
