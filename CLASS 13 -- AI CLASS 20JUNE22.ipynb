{
 "cells": [
  {
   "cell_type": "markdown",
   "id": "c004948b",
   "metadata": {},
   "source": [
    "# WHILE LOOP"
   ]
  },
  {
   "cell_type": "code",
   "execution_count": 3,
   "id": "1a2bc451",
   "metadata": {},
   "outputs": [
    {
     "name": "stdout",
     "output_type": "stream",
     "text": [
      "BILAL DILDAR KAZIM "
     ]
    }
   ],
   "source": [
    "## USING ----  FOR LOOP\n",
    "\n",
    "names = ['Bilal', 'Dildar', 'Kazim']\n",
    "\n",
    "for name in names:\n",
    "    print(name.upper(), end=\" \")"
   ]
  },
  {
   "cell_type": "code",
   "execution_count": 1,
   "id": "a690eaa8",
   "metadata": {},
   "outputs": [
    {
     "name": "stdout",
     "output_type": "stream",
     "text": [
      "BILAL DILDAR KAZIM "
     ]
    }
   ],
   "source": [
    "## USING ----  WHILE LOOP\n",
    "names = ['Bilal', 'Dildar', 'Kazim']\n",
    "count = 0\n",
    "while count<len(names):\n",
    "    print(names[count].upper(), end=\" \")\n",
    "    count += 1"
   ]
  },
  {
   "cell_type": "code",
   "execution_count": 2,
   "id": "074a1d3b",
   "metadata": {},
   "outputs": [
    {
     "name": "stdout",
     "output_type": "stream",
     "text": [
      "0 python\n",
      "1 python\n",
      "2 python\n",
      "3 python\n",
      "4 python\n"
     ]
    }
   ],
   "source": [
    "for a in range(5):\n",
    "    print(a,\"python\")"
   ]
  },
  {
   "cell_type": "code",
   "execution_count": 3,
   "id": "30f57893",
   "metadata": {},
   "outputs": [
    {
     "name": "stdout",
     "output_type": "stream",
     "text": [
      "0 python\n",
      "1 python\n",
      "2 python\n",
      "3 python\n",
      "4 python\n"
     ]
    }
   ],
   "source": [
    "count = 0\n",
    "while count<5:\n",
    "    print(count,\"python\")\n",
    "    count+=1"
   ]
  },
  {
   "cell_type": "code",
   "execution_count": 7,
   "id": "b1b37d4e",
   "metadata": {},
   "outputs": [
    {
     "name": "stdout",
     "output_type": "stream",
     "text": [
      "10 python\n",
      "9 python\n",
      "8 python\n",
      "7 python\n",
      "6 python\n",
      "5 python\n",
      "4 python\n",
      "3 python\n",
      "2 python\n",
      "1 python\n",
      "0 python\n"
     ]
    }
   ],
   "source": [
    "count = 10\n",
    "while count>=0:\n",
    "    print(count,\"python\")\n",
    "    count-=1"
   ]
  },
  {
   "cell_type": "code",
   "execution_count": 9,
   "id": "e599d452",
   "metadata": {},
   "outputs": [
    {
     "name": "stdout",
     "output_type": "stream",
     "text": [
      "1\n",
      "3\n",
      "5\n",
      "7\n",
      "9\n"
     ]
    }
   ],
   "source": [
    "count = 0\n",
    "while count<10:\n",
    "    count+=1\n",
    "    if count%2==0:\n",
    "        continue\n",
    "    print(count)"
   ]
  },
  {
   "cell_type": "code",
   "execution_count": 12,
   "id": "d9703ba2",
   "metadata": {},
   "outputs": [
    {
     "name": "stdout",
     "output_type": "stream",
     "text": [
      "2\n",
      "4\n",
      "6\n",
      "8\n",
      "10\n"
     ]
    }
   ],
   "source": [
    "count = 0\n",
    "while count<10:\n",
    "    count+=1\n",
    "    if count%2==0:\n",
    "        print(count)"
   ]
  },
  {
   "cell_type": "code",
   "execution_count": 15,
   "id": "ab8c01db",
   "metadata": {},
   "outputs": [
    {
     "name": "stdout",
     "output_type": "stream",
     "text": [
      "Even Number [2, 4, 6, 8, 10, 12, 14, 16, 18, 20]\n",
      "Odd Number [1, 3, 5, 7, 9, 11, 13, 15, 17, 19]\n"
     ]
    }
   ],
   "source": [
    "count = 0\n",
    "even_number = []\n",
    "odd_number = []\n",
    "prime_number = []\n",
    "while count<20:\n",
    "    count+=1\n",
    "    if count%2==0:\n",
    "        even_number.append(count)\n",
    "    else:\n",
    "        odd_number.append(count)\n",
    "print(\"Even Number\", even_number)\n",
    "print(\"Odd Number\", odd_number)"
   ]
  },
  {
   "cell_type": "code",
   "execution_count": 19,
   "id": "2725a4a6",
   "metadata": {},
   "outputs": [
    {
     "name": "stdout",
     "output_type": "stream",
     "text": [
      "Enter a number: 2\n",
      "4\n",
      "Enter a number: 5\n",
      "25\n",
      "Enter a number: 8\n",
      "64\n",
      "Enter a number: 10\n",
      "100\n",
      "Enter a number: 14\n",
      "The number 14 is multiple of 7\n"
     ]
    }
   ],
   "source": [
    "while True:\n",
    "    num = int(input(\"Enter a number: \"))\n",
    "    if num%7==0:\n",
    "        print(f\"The number {num} is multiple of 7\")\n",
    "        break\n",
    "    else:\n",
    "        print(num**2)"
   ]
  },
  {
   "cell_type": "code",
   "execution_count": 33,
   "id": "5bc930ab",
   "metadata": {},
   "outputs": [
    {
     "name": "stdout",
     "output_type": "stream",
     "text": [
      "Enter your bestees name or press 'q' for exita\n",
      "Enter your bestees name or press 'q' for exitc\n",
      "Enter your bestees name or press 'q' for exit\n",
      "Enter your bestees name or press 'q' for exitq\n",
      "['a', 'c', '', 'q']\n"
     ]
    }
   ],
   "source": [
    "best_friends = []\n",
    "while True:\n",
    "    best_friend = input(\"Enter your bestees name or press 'q' for exit\") \n",
    "    best_friends.append(best_friend) #is ko utha k break k neeche dalne se 'q' list main add nai hoga.\n",
    "    if best_friend == 'q':\n",
    "        break\n",
    "print(best_friends)"
   ]
  },
  {
   "cell_type": "code",
   "execution_count": 29,
   "id": "126bdb00",
   "metadata": {},
   "outputs": [
    {
     "name": "stdout",
     "output_type": "stream",
     "text": [
      "Enter your bestees name or press 'q' for exita\n",
      "Enter your bestees name or press 'q' for exitv\n",
      "Enter your bestees name or press 'q' for exitc\n",
      "Enter your bestees name or press 'q' for exitq\n",
      "['a', 'v', 'c']\n"
     ]
    }
   ],
   "source": [
    "best_friends = []\n",
    "while True:\n",
    "    best_friend = input(\"Enter your bestees name or press 'q' for exit\")\n",
    "    \n",
    "    if best_friend == 'q':\n",
    "        break\n",
    "    else:\n",
    "        best_friends.append(best_friend)\n",
    "print(best_friends)"
   ]
  },
  {
   "cell_type": "code",
   "execution_count": 31,
   "id": "d333a60f",
   "metadata": {},
   "outputs": [
    {
     "name": "stdout",
     "output_type": "stream",
     "text": [
      "Enter your bestees name or press 'q' for exita\n",
      "Enter your bestees name or press 'q' for exitc\n",
      "Enter your bestees name or press 'q' for exitv\n",
      "Enter your bestees name or press 'q' for exitq\n",
      "['a', 'c', 'v']\n"
     ]
    }
   ],
   "source": [
    "best_friends = []\n",
    "while True:\n",
    "    best_friend = input(\"Enter your bestees name or press 'q' for exit\")\n",
    "    \n",
    "    if best_friend == 'q':\n",
    "        break\n",
    "    best_friends.append(best_friend)\n",
    "print(best_friends)        "
   ]
  },
  {
   "cell_type": "code",
   "execution_count": 35,
   "id": "804bc4c5",
   "metadata": {},
   "outputs": [
    {
     "name": "stdout",
     "output_type": "stream",
     "text": [
      "Enter your bestees name or press 'q' for exita\n",
      "Enter your bestees name or press 'q' for exitf\n",
      "Enter your bestees name or press 'q' for exitq\n",
      "['a', 'f']\n"
     ]
    }
   ],
   "source": [
    "flag = True\n",
    "\n",
    "best_friends = []\n",
    "while flag:\n",
    "    best_friend = input(\"Enter your bestees name or press 'q' for exit\")\n",
    "    \n",
    "    if best_friend == 'q':\n",
    "        flag = False\n",
    "    else:\n",
    "        best_friends.append(best_friend)\n",
    "print(best_friends)   "
   ]
  },
  {
   "cell_type": "code",
   "execution_count": 43,
   "id": "4c5d03eb",
   "metadata": {},
   "outputs": [
    {
     "name": "stdout",
     "output_type": "stream",
     "text": [
      "Ener your choice number OR press 'q' to exit1\n",
      "Ener your choice number OR press 'q' to exit2\n",
      "Ener your choice number OR press 'q' to exit3\n",
      "Ener your choice number OR press 'q' to exitq\n",
      "6\n"
     ]
    }
   ],
   "source": [
    "total = 0\n",
    "while True:\n",
    "    num = input(\"Ener your choice number OR press 'q' to exit\")\n",
    "    if num == 'q':\n",
    "        break\n",
    "    else:\n",
    "        total+=int(num)\n",
    "        \n",
    "print(total)"
   ]
  },
  {
   "cell_type": "code",
   "execution_count": 44,
   "id": "377a6207",
   "metadata": {},
   "outputs": [
    {
     "name": "stdout",
     "output_type": "stream",
     "text": [
      "Ener your choice number OR press 'q' to exit1\n",
      "Ener your choice number OR press 'q' to exit3\n",
      "Ener your choice number OR press 'q' to exit4\n",
      "Ener your choice number OR press 'q' to exitq\n",
      "8\n"
     ]
    }
   ],
   "source": [
    "total = []\n",
    "while True:\n",
    "    num = input(\"Ener your choice number OR press 'q' to exit\")\n",
    "    if num == 'q':\n",
    "        break\n",
    "    else:\n",
    "        total.append(int(num))\n",
    "        \n",
    "print(sum(total))"
   ]
  },
  {
   "cell_type": "code",
   "execution_count": 49,
   "id": "ec92f847",
   "metadata": {},
   "outputs": [
    {
     "name": "stdout",
     "output_type": "stream",
     "text": [
      "Ener your comma separated numbers1,2,3,55,7\n",
      "68\n"
     ]
    }
   ],
   "source": [
    "total = 0\n",
    "fav_nums = input(\"Ener your comma separated numbers\").split(',') # you can use space instead of comma\n",
    "for num in fav_nums:\n",
    "    total +=int(num)\n",
    "print(total)"
   ]
  },
  {
   "cell_type": "code",
   "execution_count": 50,
   "id": "e259dac0",
   "metadata": {},
   "outputs": [
    {
     "name": "stdout",
     "output_type": "stream",
     "text": [
      "Ener your comma separated numbers1 2 3 5 7 99 66\n",
      "183\n"
     ]
    }
   ],
   "source": [
    "total = 0\n",
    "fav_nums = input(\"Ener your space separated numbers\").split(' ') \n",
    "for num in fav_nums:\n",
    "    total +=int(num)\n",
    "print(total)"
   ]
  },
  {
   "cell_type": "code",
   "execution_count": 51,
   "id": "3d089125",
   "metadata": {},
   "outputs": [],
   "source": [
    "nums = [1,2,3,4,5,6,7,8,9 ]"
   ]
  },
  {
   "cell_type": "code",
   "execution_count": 52,
   "id": "b861a4a8",
   "metadata": {},
   "outputs": [
    {
     "name": "stdout",
     "output_type": "stream",
     "text": [
      "[10, 10, 11, 10, 11, 12, 10, 11, 12, 13, 10, 11, 12, 13, 14, 10, 11, 12, 13, 14, 15, 10, 11, 12, 13, 14, 15, 16, 10, 11, 12, 13, 14, 15, 16, 17, 11, 12, 13, 14, 15, 16, 17, 18]\n"
     ]
    }
   ],
   "source": [
    "greater_than_10 = []\n",
    "for num in nums:\n",
    "    for a in nums[1:]:\n",
    "        summ = num + a\n",
    "        if summ>=10:\n",
    "            greater_than_10.append(summ)\n",
    "print(greater_than_10)"
   ]
  },
  {
   "cell_type": "code",
   "execution_count": null,
   "id": "eb444ed8",
   "metadata": {},
   "outputs": [],
   "source": []
  }
 ],
 "metadata": {
  "kernelspec": {
   "display_name": "Python 3 (ipykernel)",
   "language": "python",
   "name": "python3"
  },
  "language_info": {
   "codemirror_mode": {
    "name": "ipython",
    "version": 3
   },
   "file_extension": ".py",
   "mimetype": "text/x-python",
   "name": "python",
   "nbconvert_exporter": "python",
   "pygments_lexer": "ipython3",
   "version": "3.9.7"
  }
 },
 "nbformat": 4,
 "nbformat_minor": 5
}
