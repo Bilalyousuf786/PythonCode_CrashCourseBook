{
 "cells": [
  {
   "cell_type": "markdown",
   "id": "facb6ff8",
   "metadata": {},
   "source": [
    "# More on Functions (Keywords Arguments"
   ]
  },
  {
   "cell_type": "code",
   "execution_count": 24,
   "id": "70efb496",
   "metadata": {},
   "outputs": [],
   "source": [
    " \n",
    "def func(arr, task=\"\"):\n",
    "    # sum, mult, max, min, even, odd\n",
    "    if task == \"sum\":\n",
    "        return sum(arr)\n",
    "    elif task == \"mult\":\n",
    "        res = 1\n",
    "        for num in arr:\n",
    "            res*=num\n",
    "        return res\n",
    "    elif task == \"max\":\n",
    "        return max(arr)\n",
    "    elif task == \"min\":\n",
    "        return min(arr)\n",
    "    elif task == \"even\":\n",
    "        even = []\n",
    "        for i in arr:\n",
    "            if i%2==0:\n",
    "                even.append(i)\n",
    "        return even\n",
    "    elif task == \"odd\":\n",
    "        odd = []\n",
    "        for i in arr:\n",
    "            if i%2!=0:\n",
    "                odd.append(i)\n",
    "        return odd\n",
    "    else: # this will return \"arr\" if we do not assign any thing in \"task\"\n",
    "        return arr\n",
    "        \n",
    "    "
   ]
  },
  {
   "cell_type": "code",
   "execution_count": 25,
   "id": "f007ae59",
   "metadata": {},
   "outputs": [
    {
     "data": {
      "text/plain": [
       "25"
      ]
     },
     "execution_count": 25,
     "metadata": {},
     "output_type": "execute_result"
    }
   ],
   "source": [
    "func([3,4,5,6,7], \"sum\")"
   ]
  },
  {
   "cell_type": "code",
   "execution_count": 26,
   "id": "5ffc1127",
   "metadata": {},
   "outputs": [
    {
     "data": {
      "text/plain": [
       "2520"
      ]
     },
     "execution_count": 26,
     "metadata": {},
     "output_type": "execute_result"
    }
   ],
   "source": [
    "func([3,4,5,6,7], \"mult\")"
   ]
  },
  {
   "cell_type": "code",
   "execution_count": 27,
   "id": "19aa43f3",
   "metadata": {},
   "outputs": [
    {
     "data": {
      "text/plain": [
       "[4, 6]"
      ]
     },
     "execution_count": 27,
     "metadata": {},
     "output_type": "execute_result"
    }
   ],
   "source": [
    "func([3,4,5,6,7], \"even\")"
   ]
  },
  {
   "cell_type": "code",
   "execution_count": 28,
   "id": "d10994b6",
   "metadata": {},
   "outputs": [
    {
     "data": {
      "text/plain": [
       "[3, 5, 7]"
      ]
     },
     "execution_count": 28,
     "metadata": {},
     "output_type": "execute_result"
    }
   ],
   "source": [
    "func([3,4,5,6,7], \"odd\")"
   ]
  },
  {
   "cell_type": "code",
   "execution_count": 29,
   "id": "979a2425",
   "metadata": {},
   "outputs": [
    {
     "data": {
      "text/plain": [
       "3"
      ]
     },
     "execution_count": 29,
     "metadata": {},
     "output_type": "execute_result"
    }
   ],
   "source": [
    "func([3,4,5,6,7], \"min\")"
   ]
  },
  {
   "cell_type": "code",
   "execution_count": 30,
   "id": "3764a0f3",
   "metadata": {},
   "outputs": [
    {
     "data": {
      "text/plain": [
       "7"
      ]
     },
     "execution_count": 30,
     "metadata": {},
     "output_type": "execute_result"
    }
   ],
   "source": [
    "func([3,4,5,6,7], \"max\")"
   ]
  },
  {
   "cell_type": "code",
   "execution_count": 40,
   "id": "f647c806",
   "metadata": {},
   "outputs": [],
   "source": [
    "# Calculator\n",
    "\n",
    "#num1 = int(input(\"Enter num1 \\t\"))\n",
    "#num2 = int(input(\"Enter num2 \\t\"))\n",
    "def calc(arr, task):\n",
    "    if task == \"+\":\n",
    "        return sum(arr)\n",
    "    elif task == \"*\":\n",
    "        res = 1\n",
    "        for num in arr:\n",
    "            res*=num\n",
    "        return res\n",
    "    elif task == \"-\":\n",
    "        a =1\n",
    "        for i in arr:\n",
    "            a-=i\n",
    "        return a\n",
    "    elif task==\"/\":\n",
    "        b=1\n",
    "        for i in arr:\n",
    "            b/=i\n",
    "        return b\n",
    "            "
   ]
  },
  {
   "cell_type": "code",
   "execution_count": 37,
   "id": "0c1b3b92",
   "metadata": {},
   "outputs": [
    {
     "data": {
      "text/plain": [
       "9"
      ]
     },
     "execution_count": 37,
     "metadata": {},
     "output_type": "execute_result"
    }
   ],
   "source": [
    "calc([2,3,4], \"+\")"
   ]
  },
  {
   "cell_type": "code",
   "execution_count": 38,
   "id": "af180ba6",
   "metadata": {},
   "outputs": [
    {
     "data": {
      "text/plain": [
       "24"
      ]
     },
     "execution_count": 38,
     "metadata": {},
     "output_type": "execute_result"
    }
   ],
   "source": [
    "calc([2,3,4], \"*\")"
   ]
  },
  {
   "cell_type": "code",
   "execution_count": 41,
   "id": "0df2d85d",
   "metadata": {},
   "outputs": [
    {
     "data": {
      "text/plain": [
       "-8"
      ]
     },
     "execution_count": 41,
     "metadata": {},
     "output_type": "execute_result"
    }
   ],
   "source": [
    "calc([2,3,4], \"-\")"
   ]
  },
  {
   "cell_type": "code",
   "execution_count": 42,
   "id": "850db280",
   "metadata": {},
   "outputs": [
    {
     "data": {
      "text/plain": [
       "0.041666666666666664"
      ]
     },
     "execution_count": 42,
     "metadata": {},
     "output_type": "execute_result"
    }
   ],
   "source": [
    "calc([2,3,4], \"/\")"
   ]
  },
  {
   "cell_type": "code",
   "execution_count": 43,
   "id": "015434c7",
   "metadata": {},
   "outputs": [],
   "source": [
    "def description(name, age, gender, blood_group):\n",
    "    desc = f\"\"\" \n",
    "                    The name is {name} \n",
    "                    The age is {age}\n",
    "                    The gender is {gender}\n",
    "                    The blood_group is {blood_group}\"\"\"\n",
    "    print(desc)"
   ]
  },
  {
   "cell_type": "code",
   "execution_count": 44,
   "id": "f8aa32bb",
   "metadata": {},
   "outputs": [
    {
     "name": "stdout",
     "output_type": "stream",
     "text": [
      " \n",
      "                    The name is Bilal \n",
      "                    The age is 25\n",
      "                    The gender is Male\n",
      "                    The blood_group is O+ve\n"
     ]
    }
   ],
   "source": [
    "description(\"Bilal\", 25, \"Male\", \"O+ve\")"
   ]
  },
  {
   "cell_type": "markdown",
   "id": "5701b00b",
   "metadata": {},
   "source": [
    "# Returning A Dictionary"
   ]
  },
  {
   "cell_type": "code",
   "execution_count": 45,
   "id": "c7e35a1d",
   "metadata": {},
   "outputs": [
    {
     "name": "stdout",
     "output_type": "stream",
     "text": [
      "{'FirstName': 'dildar', 'lastName': 'ali'}\n"
     ]
    }
   ],
   "source": [
    "def build_person(fname,lname):\n",
    "    person = {'FirstName':fname, 'lastName':lname}\n",
    "    return person\n",
    "\n",
    "musician= build_person('dildar', 'ali')\n",
    "print(musician)"
   ]
  },
  {
   "cell_type": "code",
   "execution_count": 50,
   "id": "ec9b4a77",
   "metadata": {},
   "outputs": [
    {
     "name": "stdout",
     "output_type": "stream",
     "text": [
      "{'FirstName': 'dildar', 'lastName': 'ali', 'age': 25}\n"
     ]
    }
   ],
   "source": [
    "def build_person(fname,lname, age=\" \"):\n",
    "    person = {'FirstName':fname, 'lastName':lname}\n",
    "    if age:\n",
    "        person['age'] = age\n",
    "    return person\n",
    "\n",
    "musician= build_person('dildar', 'ali', 25)\n",
    "print(musician)"
   ]
  },
  {
   "cell_type": "code",
   "execution_count": 51,
   "id": "8ceb8e67",
   "metadata": {},
   "outputs": [],
   "source": [
    "age = ''\n",
    "if age:\n",
    "    print(\"k\")"
   ]
  },
  {
   "cell_type": "code",
   "execution_count": 55,
   "id": "5b198eae",
   "metadata": {},
   "outputs": [
    {
     "name": "stdout",
     "output_type": "stream",
     "text": [
      "printed model dode\n",
      "printed model robot pendant\n",
      "printed model iphone case\n",
      "\n",
      " The following models have been printed\n",
      "dode\n",
      "robot pendant\n",
      "iphone case\n"
     ]
    }
   ],
   "source": [
    "unprinted_designs = ['iphone case', 'robot pendant', 'dode']\n",
    "completed_models = []\n",
    "\n",
    "while unprinted_designs:\n",
    "    current_desing = unprinted_designs.pop()\n",
    "    print(\"printed model\", current_desing)\n",
    "    completed_models.append(current_desing)\n",
    "    \n",
    "print(\"\\n The following models have been printed\")\n",
    "for complete_models in completed_models:\n",
    "    print(complete_models)"
   ]
  },
  {
   "cell_type": "code",
   "execution_count": null,
   "id": "41754901",
   "metadata": {},
   "outputs": [],
   "source": []
  }
 ],
 "metadata": {
  "kernelspec": {
   "display_name": "Python 3 (ipykernel)",
   "language": "python",
   "name": "python3"
  },
  "language_info": {
   "codemirror_mode": {
    "name": "ipython",
    "version": 3
   },
   "file_extension": ".py",
   "mimetype": "text/x-python",
   "name": "python",
   "nbconvert_exporter": "python",
   "pygments_lexer": "ipython3",
   "version": "3.9.7"
  }
 },
 "nbformat": 4,
 "nbformat_minor": 5
}
