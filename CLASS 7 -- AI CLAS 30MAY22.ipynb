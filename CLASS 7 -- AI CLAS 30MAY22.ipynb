{
 "cells": [
  {
   "cell_type": "markdown",
   "id": "e1977bbf",
   "metadata": {},
   "source": [
    "# PYTHON DATA STRUCTURE"
   ]
  },
  {
   "cell_type": "markdown",
   "id": "be30594c",
   "metadata": {},
   "source": [
    "-- LIST\n",
    "-- DICTIONARIES\n",
    "-- TUPLE\n",
    "-- SET"
   ]
  },
  {
   "cell_type": "markdown",
   "id": "a0f036a6",
   "metadata": {},
   "source": [
    "# LIST"
   ]
  },
  {
   "cell_type": "code",
   "execution_count": 6,
   "id": "3dd454d5",
   "metadata": {},
   "outputs": [
    {
     "name": "stdout",
     "output_type": "stream",
     "text": [
      "<class 'list'>\n"
     ]
    }
   ],
   "source": [
    "# LIST DEFINITION\n",
    "\n",
    "courses = []\n",
    "type(courses)\n",
    "print(type(courses))\n",
    "\n",
    "# list has indexes\n",
    "\n",
    "# -- CRUD   create read update delete"
   ]
  },
  {
   "cell_type": "code",
   "execution_count": 22,
   "id": "7d1b2850",
   "metadata": {},
   "outputs": [
    {
     "data": {
      "text/plain": [
       "['Ali', 'Bilal', 'Dildar', 'Kazim']"
      ]
     },
     "execution_count": 22,
     "metadata": {},
     "output_type": "execute_result"
    }
   ],
   "source": [
    "students = [\"Ali\", \"Bilal\", \"Dildar\", \"Kazim\"]\n",
    "#            0        1        2        3   \n",
    "#           -4       -3       -2       -1\n",
    "students"
   ]
  },
  {
   "cell_type": "code",
   "execution_count": 29,
   "id": "0512ede5",
   "metadata": {},
   "outputs": [
    {
     "data": {
      "text/plain": [
       "'Bilal'"
      ]
     },
     "execution_count": 29,
     "metadata": {},
     "output_type": "execute_result"
    }
   ],
   "source": [
    "students[1]"
   ]
  },
  {
   "cell_type": "code",
   "execution_count": 31,
   "id": "7e9e75fe",
   "metadata": {},
   "outputs": [],
   "source": [
    "students[1] = \"Nasir\""
   ]
  },
  {
   "cell_type": "code",
   "execution_count": 32,
   "id": "2f54398e",
   "metadata": {},
   "outputs": [
    {
     "data": {
      "text/plain": [
       "['Ali', 'Nasir', 'Dildar', 'Kazim']"
      ]
     },
     "execution_count": 32,
     "metadata": {},
     "output_type": "execute_result"
    }
   ],
   "source": [
    "students"
   ]
  },
  {
   "cell_type": "code",
   "execution_count": 1,
   "id": "f357249f",
   "metadata": {},
   "outputs": [
    {
     "ename": "NameError",
     "evalue": "name 'students' is not defined",
     "output_type": "error",
     "traceback": [
      "\u001b[1;31m---------------------------------------------------------------------------\u001b[0m",
      "\u001b[1;31mNameError\u001b[0m                                 Traceback (most recent call last)",
      "\u001b[1;32mC:\\Users\\LAB02R~1\\AppData\\Local\\Temp/ipykernel_10868/3508712767.py\u001b[0m in \u001b[0;36m<module>\u001b[1;34m\u001b[0m\n\u001b[1;32m----> 1\u001b[1;33m \u001b[0mstudents\u001b[0m\u001b[1;33m[\u001b[0m\u001b[1;36m0\u001b[0m\u001b[1;33m:\u001b[0m\u001b[1;33m-\u001b[0m\u001b[1;36m1\u001b[0m\u001b[1;33m]\u001b[0m\u001b[1;33m\u001b[0m\u001b[1;33m\u001b[0m\u001b[0m\n\u001b[0m",
      "\u001b[1;31mNameError\u001b[0m: name 'students' is not defined"
     ]
    }
   ],
   "source": [
    "students[0:-1]"
   ]
  },
  {
   "cell_type": "code",
   "execution_count": null,
   "id": "abb54119",
   "metadata": {},
   "outputs": [],
   "source": [
    "students[0], students[-1]"
   ]
  },
  {
   "cell_type": "code",
   "execution_count": 35,
   "id": "af60760a",
   "metadata": {},
   "outputs": [
    {
     "data": {
      "text/plain": [
       "['Karachi', 'Islamabad', 'Quetta', 'Peshawar']"
      ]
     },
     "execution_count": 35,
     "metadata": {},
     "output_type": "execute_result"
    }
   ],
   "source": [
    "cities = [\"Karachi\", \"Lahore\", \"Quetta\", \"Peshawar\"]\n",
    "\n",
    "cities [1] = \"Islamabad\"\n",
    "cities"
   ]
  },
  {
   "cell_type": "code",
   "execution_count": 40,
   "id": "f723cfe7",
   "metadata": {},
   "outputs": [
    {
     "data": {
      "text/plain": [
       "['Karachi',\n",
       " 'Islamabad',\n",
       " 'Quetta',\n",
       " 'Peshawar',\n",
       " 'Rawalpindi',\n",
       " 'Rawalpindi',\n",
       " 'Rawalpindi']"
      ]
     },
     "execution_count": 40,
     "metadata": {},
     "output_type": "execute_result"
    }
   ],
   "source": [
    "cities.insert(4,\"Rawalpindi\")\n",
    "cities"
   ]
  },
  {
   "cell_type": "code",
   "execution_count": 43,
   "id": "16274991",
   "metadata": {},
   "outputs": [
    {
     "data": {
      "text/plain": [
       "['Quetta', 'Peshawar', 'Rawalpindi', 'Rawalpindi', 'Rawalpindi']"
      ]
     },
     "execution_count": 43,
     "metadata": {},
     "output_type": "execute_result"
    }
   ],
   "source": [
    "del cities [0]\n",
    "cities"
   ]
  },
  {
   "cell_type": "code",
   "execution_count": 48,
   "id": "42d05a84",
   "metadata": {},
   "outputs": [],
   "source": [
    "miscList = [cities, 122, False, 34.5]"
   ]
  },
  {
   "cell_type": "code",
   "execution_count": 50,
   "id": "5883d5f0",
   "metadata": {},
   "outputs": [
    {
     "data": {
      "text/plain": [
       "[['Quetta', 'Peshawar', 'Rawalpindi', 'Rawalpindi', 'Rawalpindi'],\n",
       " 122,\n",
       " False,\n",
       " 34.5]"
      ]
     },
     "execution_count": 50,
     "metadata": {},
     "output_type": "execute_result"
    }
   ],
   "source": [
    "miscList"
   ]
  },
  {
   "cell_type": "code",
   "execution_count": 52,
   "id": "88350629",
   "metadata": {},
   "outputs": [
    {
     "data": {
      "text/plain": [
       "[]"
      ]
     },
     "execution_count": 52,
     "metadata": {},
     "output_type": "execute_result"
    }
   ],
   "source": [
    "courses"
   ]
  },
  {
   "cell_type": "code",
   "execution_count": 94,
   "id": "eeed4783",
   "metadata": {},
   "outputs": [],
   "source": [
    "courses.append(\"Python\")"
   ]
  },
  {
   "cell_type": "code",
   "execution_count": 95,
   "id": "e515e58a",
   "metadata": {},
   "outputs": [
    {
     "data": {
      "text/plain": [
       "['Artificial Intelligence',\n",
       " 'Artificial Intelligence',\n",
       " 'Artificial Intelligence',\n",
       " 'Artificial Intelligence',\n",
       " 'Python',\n",
       " 'Artificial Intelligence',\n",
       " 'Artificial Intelligence',\n",
       " 'Data Science',\n",
       " 'Artificial Intelligence',\n",
       " 'Artificial Intelligence',\n",
       " 'Python']"
      ]
     },
     "execution_count": 95,
     "metadata": {},
     "output_type": "execute_result"
    }
   ],
   "source": [
    "courses"
   ]
  },
  {
   "cell_type": "code",
   "execution_count": 96,
   "id": "51bc1774",
   "metadata": {},
   "outputs": [],
   "source": [
    "courses.append(\"Data Science\")"
   ]
  },
  {
   "cell_type": "code",
   "execution_count": 97,
   "id": "833df74f",
   "metadata": {},
   "outputs": [
    {
     "data": {
      "text/plain": [
       "['Artificial Intelligence',\n",
       " 'Artificial Intelligence',\n",
       " 'Artificial Intelligence',\n",
       " 'Artificial Intelligence',\n",
       " 'Python',\n",
       " 'Artificial Intelligence',\n",
       " 'Artificial Intelligence',\n",
       " 'Data Science',\n",
       " 'Artificial Intelligence',\n",
       " 'Artificial Intelligence',\n",
       " 'Python',\n",
       " 'Data Science']"
      ]
     },
     "execution_count": 97,
     "metadata": {},
     "output_type": "execute_result"
    }
   ],
   "source": [
    "courses"
   ]
  },
  {
   "cell_type": "code",
   "execution_count": 78,
   "id": "5d4f9648",
   "metadata": {},
   "outputs": [],
   "source": [
    "courses.append(\"Machine Learning\")"
   ]
  },
  {
   "cell_type": "code",
   "execution_count": 91,
   "id": "31bed632",
   "metadata": {
    "scrolled": false
   },
   "outputs": [
    {
     "data": {
      "text/plain": [
       "['Artificial Intelligence',\n",
       " 'Artificial Intelligence',\n",
       " 'Artificial Intelligence',\n",
       " 'Python',\n",
       " 'Artificial Intelligence',\n",
       " 'Artificial Intelligence',\n",
       " 'Data Science',\n",
       " 'Artificial Intelligence',\n",
       " 'Artificial Intelligence']"
      ]
     },
     "execution_count": 91,
     "metadata": {},
     "output_type": "execute_result"
    }
   ],
   "source": [
    "courses"
   ]
  },
  {
   "cell_type": "code",
   "execution_count": 92,
   "id": "14ad6978",
   "metadata": {},
   "outputs": [],
   "source": [
    "courses.insert(2, \"Artificial Intelligence\")"
   ]
  },
  {
   "cell_type": "code",
   "execution_count": 93,
   "id": "04739ff7",
   "metadata": {
    "scrolled": true
   },
   "outputs": [
    {
     "data": {
      "text/plain": [
       "['Artificial Intelligence',\n",
       " 'Artificial Intelligence',\n",
       " 'Artificial Intelligence',\n",
       " 'Artificial Intelligence',\n",
       " 'Python',\n",
       " 'Artificial Intelligence',\n",
       " 'Artificial Intelligence',\n",
       " 'Data Science',\n",
       " 'Artificial Intelligence',\n",
       " 'Artificial Intelligence']"
      ]
     },
     "execution_count": 93,
     "metadata": {},
     "output_type": "execute_result"
    }
   ],
   "source": [
    "courses"
   ]
  },
  {
   "cell_type": "code",
   "execution_count": 89,
   "id": "300aee0e",
   "metadata": {},
   "outputs": [
    {
     "data": {
      "text/plain": [
       "['Artificial Intelligence',\n",
       " 'Artificial Intelligence',\n",
       " 'Python',\n",
       " 'Artificial Intelligence',\n",
       " 'Artificial Intelligence',\n",
       " 'Data Science',\n",
       " 'Artificial Intelligence',\n",
       " 'Artificial Intelligence']"
      ]
     },
     "execution_count": 89,
     "metadata": {},
     "output_type": "execute_result"
    }
   ],
   "source": [
    "courses.insert(10, \"Artificial Intelligence\")\n",
    "courses"
   ]
  },
  {
   "cell_type": "code",
   "execution_count": 90,
   "id": "9219d61f",
   "metadata": {},
   "outputs": [
    {
     "data": {
      "text/plain": [
       "['Artificial Intelligence',\n",
       " 'Artificial Intelligence',\n",
       " 'Artificial Intelligence',\n",
       " 'Python',\n",
       " 'Artificial Intelligence',\n",
       " 'Artificial Intelligence',\n",
       " 'Data Science',\n",
       " 'Artificial Intelligence',\n",
       " 'Artificial Intelligence']"
      ]
     },
     "execution_count": 90,
     "metadata": {},
     "output_type": "execute_result"
    }
   ],
   "source": [
    "courses.insert(-10, \"Artificial Intelligence\")\n",
    "courses"
   ]
  },
  {
   "cell_type": "code",
   "execution_count": 98,
   "id": "1d2e19cb",
   "metadata": {},
   "outputs": [
    {
     "data": {
      "text/plain": [
       "'Data Science'"
      ]
     },
     "execution_count": 98,
     "metadata": {},
     "output_type": "execute_result"
    }
   ],
   "source": [
    "courses.pop()\n",
    "#value return using pop()"
   ]
  },
  {
   "cell_type": "code",
   "execution_count": 99,
   "id": "6e8ce2b2",
   "metadata": {},
   "outputs": [],
   "source": [
    "#inplace or inmemory -- direct memory per hit horaha hai matlab permanently remove hojaege\n",
    "\n",
    "courses.remove(\"Artificial Intelligence\")"
   ]
  },
  {
   "cell_type": "code",
   "execution_count": 100,
   "id": "c4175d57",
   "metadata": {},
   "outputs": [
    {
     "data": {
      "text/plain": [
       "['Artificial Intelligence',\n",
       " 'Artificial Intelligence',\n",
       " 'Artificial Intelligence',\n",
       " 'Python',\n",
       " 'Artificial Intelligence',\n",
       " 'Artificial Intelligence',\n",
       " 'Data Science',\n",
       " 'Artificial Intelligence',\n",
       " 'Artificial Intelligence',\n",
       " 'Python']"
      ]
     },
     "execution_count": 100,
     "metadata": {},
     "output_type": "execute_result"
    }
   ],
   "source": [
    "courses"
   ]
  },
  {
   "cell_type": "code",
   "execution_count": 101,
   "id": "eb5224f1",
   "metadata": {},
   "outputs": [],
   "source": [
    "courses.clear()\n",
    "#clear -- delete whole list"
   ]
  },
  {
   "cell_type": "code",
   "execution_count": 102,
   "id": "2626b29e",
   "metadata": {},
   "outputs": [
    {
     "data": {
      "text/plain": [
       "[]"
      ]
     },
     "execution_count": 102,
     "metadata": {},
     "output_type": "execute_result"
    }
   ],
   "source": [
    "courses"
   ]
  },
  {
   "cell_type": "code",
   "execution_count": 2,
   "id": "0f97a100",
   "metadata": {},
   "outputs": [],
   "source": [
    "students = [\"Ali\",\"Bilal\", \"Dildar\", \"Kazim\"]"
   ]
  },
  {
   "cell_type": "code",
   "execution_count": 3,
   "id": "3e799880",
   "metadata": {},
   "outputs": [
    {
     "data": {
      "text/plain": [
       "['Ali', 'Bilal', 'Dildar', 'Kazim']"
      ]
     },
     "execution_count": 3,
     "metadata": {},
     "output_type": "execute_result"
    }
   ],
   "source": [
    "my_students = students\n",
    "my_students"
   ]
  },
  {
   "cell_type": "code",
   "execution_count": 4,
   "id": "e96b6f92",
   "metadata": {},
   "outputs": [],
   "source": [
    "# OBJECT COPY -- TWO WAYS\n",
    "# 1. Pass by reference\n",
    "# 2. pass by value\n",
    "\n",
    "\n",
    "\n",
    "# 1. Pass by reference\n",
    "my_students.append(\"Kamran\")"
   ]
  },
  {
   "cell_type": "code",
   "execution_count": 5,
   "id": "bdedc9c0",
   "metadata": {
    "scrolled": true
   },
   "outputs": [
    {
     "data": {
      "text/plain": [
       "['Ali', 'Bilal', 'Dildar', 'Kazim', 'Kamran']"
      ]
     },
     "execution_count": 5,
     "metadata": {},
     "output_type": "execute_result"
    }
   ],
   "source": [
    "my_students"
   ]
  },
  {
   "cell_type": "code",
   "execution_count": 6,
   "id": "43d8f401",
   "metadata": {
    "scrolled": true
   },
   "outputs": [
    {
     "data": {
      "text/plain": [
       "['Ali', 'Bilal', 'Dildar', 'Kazim', 'Kamran']"
      ]
     },
     "execution_count": 6,
     "metadata": {},
     "output_type": "execute_result"
    }
   ],
   "source": [
    "students"
   ]
  },
  {
   "cell_type": "code",
   "execution_count": 7,
   "id": "efa33a57",
   "metadata": {},
   "outputs": [],
   "source": [
    "# 2. pass by value\n",
    "a = 100\n",
    "b= a\n",
    "c=100\n",
    "\n",
    "c=101"
   ]
  },
  {
   "cell_type": "code",
   "execution_count": 8,
   "id": "a441a6d6",
   "metadata": {},
   "outputs": [
    {
     "data": {
      "text/plain": [
       "2192200455632"
      ]
     },
     "execution_count": 8,
     "metadata": {},
     "output_type": "execute_result"
    }
   ],
   "source": [
    "id(a)"
   ]
  },
  {
   "cell_type": "code",
   "execution_count": 9,
   "id": "c3085b3c",
   "metadata": {},
   "outputs": [
    {
     "data": {
      "text/plain": [
       "2192200455632"
      ]
     },
     "execution_count": 9,
     "metadata": {},
     "output_type": "execute_result"
    }
   ],
   "source": [
    "id(b)"
   ]
  },
  {
   "cell_type": "code",
   "execution_count": 10,
   "id": "9b16657c",
   "metadata": {
    "scrolled": true
   },
   "outputs": [
    {
     "data": {
      "text/plain": [
       "2192200455664"
      ]
     },
     "execution_count": 10,
     "metadata": {},
     "output_type": "execute_result"
    }
   ],
   "source": [
    "id(c)"
   ]
  },
  {
   "cell_type": "code",
   "execution_count": 11,
   "id": "c967041d",
   "metadata": {},
   "outputs": [
    {
     "data": {
      "text/plain": [
       "0"
      ]
     },
     "execution_count": 11,
     "metadata": {},
     "output_type": "execute_result"
    }
   ],
   "source": [
    "students.count(\"Asad\")"
   ]
  },
  {
   "cell_type": "code",
   "execution_count": 31,
   "id": "5761faa6",
   "metadata": {},
   "outputs": [],
   "source": [
    "students.append(my_students)"
   ]
  },
  {
   "cell_type": "code",
   "execution_count": 13,
   "id": "e625bc68",
   "metadata": {},
   "outputs": [
    {
     "data": {
      "text/plain": [
       "['Ali', 'Bilal', 'Dildar', 'Kazim', 'Kamran', [...]]"
      ]
     },
     "execution_count": 13,
     "metadata": {},
     "output_type": "execute_result"
    }
   ],
   "source": [
    "student1"
   ]
  },
  {
   "cell_type": "code",
   "execution_count": 18,
   "id": "b8459571",
   "metadata": {},
   "outputs": [],
   "source": [
    "student1 = [\"Ali\",\"Bilal\", \"Dildar\", \"Kazim\"]"
   ]
  },
  {
   "cell_type": "code",
   "execution_count": 22,
   "id": "1fc3dae8",
   "metadata": {},
   "outputs": [
    {
     "data": {
      "text/plain": [
       "['Ali', 'Bilal', 'Dildar', 'Kazim', [...]]"
      ]
     },
     "execution_count": 22,
     "metadata": {},
     "output_type": "execute_result"
    }
   ],
   "source": [
    "my_student1 = students\n",
    "my_student1"
   ]
  },
  {
   "cell_type": "code",
   "execution_count": 25,
   "id": "0f9ba4e1",
   "metadata": {},
   "outputs": [],
   "source": [
    "students.extend(my_students)"
   ]
  },
  {
   "cell_type": "code",
   "execution_count": 26,
   "id": "df6e2b85",
   "metadata": {},
   "outputs": [
    {
     "data": {
      "text/plain": [
       "['Ali',\n",
       " 'Bilal',\n",
       " 'Dildar',\n",
       " 'Kazim',\n",
       " [...],\n",
       " 'Ali',\n",
       " 'Bilal',\n",
       " 'Dildar',\n",
       " 'Kazim',\n",
       " [...],\n",
       " 'Ali',\n",
       " 'Bilal',\n",
       " 'Dildar',\n",
       " 'Kazim',\n",
       " [...],\n",
       " 'Ali',\n",
       " 'Bilal',\n",
       " 'Dildar',\n",
       " 'Kazim',\n",
       " [...]]"
      ]
     },
     "execution_count": 26,
     "metadata": {},
     "output_type": "execute_result"
    }
   ],
   "source": [
    "students"
   ]
  },
  {
   "cell_type": "code",
   "execution_count": 29,
   "id": "faa1bfd3",
   "metadata": {},
   "outputs": [],
   "source": [
    "student1.sort()"
   ]
  },
  {
   "cell_type": "code",
   "execution_count": 32,
   "id": "0d1f63ed",
   "metadata": {},
   "outputs": [
    {
     "data": {
      "text/plain": [
       "['Ali', 'Bilal', 'Dildar', 'Kazim']"
      ]
     },
     "execution_count": 32,
     "metadata": {},
     "output_type": "execute_result"
    }
   ],
   "source": [
    "student1"
   ]
  },
  {
   "cell_type": "markdown",
   "id": "11c4b193",
   "metadata": {},
   "source": [
    "# INDEXING AND SLICING"
   ]
  },
  {
   "cell_type": "code",
   "execution_count": 5,
   "id": "545cf484",
   "metadata": {},
   "outputs": [],
   "source": [
    "marks = [30, 43,54,62,77, 87,90]\n"
   ]
  },
  {
   "cell_type": "code",
   "execution_count": 35,
   "id": "8f8da7eb",
   "metadata": {},
   "outputs": [
    {
     "data": {
      "text/plain": [
       "62"
      ]
     },
     "execution_count": 35,
     "metadata": {},
     "output_type": "execute_result"
    }
   ],
   "source": [
    "#indexing\n",
    "marks[3]"
   ]
  },
  {
   "cell_type": "code",
   "execution_count": 36,
   "id": "0642c2a5",
   "metadata": {},
   "outputs": [
    {
     "data": {
      "text/plain": [
       "[43, 54, 62]"
      ]
     },
     "execution_count": 36,
     "metadata": {},
     "output_type": "execute_result"
    }
   ],
   "source": [
    "marks[1:4]"
   ]
  },
  {
   "cell_type": "code",
   "execution_count": 37,
   "id": "d1773fc3",
   "metadata": {},
   "outputs": [
    {
     "data": {
      "text/plain": [
       "[43, 54, 62, 77, 87, 90]"
      ]
     },
     "execution_count": 37,
     "metadata": {},
     "output_type": "execute_result"
    }
   ],
   "source": [
    "marks[1:]"
   ]
  },
  {
   "cell_type": "code",
   "execution_count": 6,
   "id": "471dfb62",
   "metadata": {},
   "outputs": [
    {
     "data": {
      "text/plain": [
       "[30, 43, 54, 62, 77, 87, 90]"
      ]
     },
     "execution_count": 6,
     "metadata": {},
     "output_type": "execute_result"
    }
   ],
   "source": [
    "marks[:]"
   ]
  },
  {
   "cell_type": "code",
   "execution_count": 39,
   "id": "df53015d",
   "metadata": {},
   "outputs": [
    {
     "data": {
      "text/plain": [
       "[43, 54, 62, 77, 87]"
      ]
     },
     "execution_count": 39,
     "metadata": {},
     "output_type": "execute_result"
    }
   ],
   "source": [
    "marks[1:-1]"
   ]
  },
  {
   "cell_type": "code",
   "execution_count": 41,
   "id": "9ce0ed0d",
   "metadata": {},
   "outputs": [
    {
     "data": {
      "text/plain": [
       "[]"
      ]
     },
     "execution_count": 41,
     "metadata": {},
     "output_type": "execute_result"
    }
   ],
   "source": [
    "marks[5:5]"
   ]
  },
  {
   "cell_type": "code",
   "execution_count": 44,
   "id": "18079186",
   "metadata": {
    "scrolled": true
   },
   "outputs": [
    {
     "data": {
      "text/plain": [
       "[]"
      ]
     },
     "execution_count": 44,
     "metadata": {},
     "output_type": "execute_result"
    }
   ],
   "source": [
    "marks[5:2]"
   ]
  },
  {
   "cell_type": "code",
   "execution_count": 7,
   "id": "93330e2c",
   "metadata": {},
   "outputs": [
    {
     "data": {
      "text/plain": [
       "[30, 43, 54, 62, 77]"
      ]
     },
     "execution_count": 7,
     "metadata": {},
     "output_type": "execute_result"
    }
   ],
   "source": [
    "marks[0:5:1]"
   ]
  },
  {
   "cell_type": "code",
   "execution_count": 8,
   "id": "5efdf150",
   "metadata": {},
   "outputs": [
    {
     "data": {
      "text/plain": [
       "[30, 43, 54, 62, 77, 87, 90]"
      ]
     },
     "execution_count": 8,
     "metadata": {},
     "output_type": "execute_result"
    }
   ],
   "source": [
    "marks"
   ]
  },
  {
   "cell_type": "code",
   "execution_count": 45,
   "id": "3c73c03c",
   "metadata": {},
   "outputs": [
    {
     "data": {
      "text/plain": [
       "[90, 87, 77, 62, 54, 43, 30]"
      ]
     },
     "execution_count": 45,
     "metadata": {},
     "output_type": "execute_result"
    }
   ],
   "source": [
    "marks[::-1]"
   ]
  },
  {
   "cell_type": "code",
   "execution_count": 11,
   "id": "a642dd60",
   "metadata": {},
   "outputs": [
    {
     "data": {
      "text/plain": [
       "[90, 77, 54, 30]"
      ]
     },
     "execution_count": 11,
     "metadata": {},
     "output_type": "execute_result"
    }
   ],
   "source": [
    "marks[::-2]"
   ]
  },
  {
   "cell_type": "code",
   "execution_count": 12,
   "id": "f611f73b",
   "metadata": {},
   "outputs": [
    {
     "data": {
      "text/plain": [
       "[90, 62, 30]"
      ]
     },
     "execution_count": 12,
     "metadata": {},
     "output_type": "execute_result"
    }
   ],
   "source": [
    "marks[::-3]"
   ]
  },
  {
   "cell_type": "code",
   "execution_count": 13,
   "id": "eff5b263",
   "metadata": {},
   "outputs": [
    {
     "data": {
      "text/plain": [
       "[90, 54]"
      ]
     },
     "execution_count": 13,
     "metadata": {},
     "output_type": "execute_result"
    }
   ],
   "source": [
    "marks[::-4]"
   ]
  },
  {
   "cell_type": "code",
   "execution_count": 14,
   "id": "62c9fe58",
   "metadata": {},
   "outputs": [
    {
     "data": {
      "text/plain": [
       "[90]"
      ]
     },
     "execution_count": 14,
     "metadata": {},
     "output_type": "execute_result"
    }
   ],
   "source": [
    "marks[::-7]"
   ]
  },
  {
   "cell_type": "code",
   "execution_count": 15,
   "id": "7373158d",
   "metadata": {},
   "outputs": [
    {
     "data": {
      "text/plain": [
       "[90]"
      ]
     },
     "execution_count": 15,
     "metadata": {},
     "output_type": "execute_result"
    }
   ],
   "source": [
    "marks[::-10]"
   ]
  },
  {
   "cell_type": "code",
   "execution_count": null,
   "id": "875f5a3b",
   "metadata": {},
   "outputs": [],
   "source": []
  }
 ],
 "metadata": {
  "kernelspec": {
   "display_name": "Python 3 (ipykernel)",
   "language": "python",
   "name": "python3"
  },
  "language_info": {
   "codemirror_mode": {
    "name": "ipython",
    "version": 3
   },
   "file_extension": ".py",
   "mimetype": "text/x-python",
   "name": "python",
   "nbconvert_exporter": "python",
   "pygments_lexer": "ipython3",
   "version": "3.9.7"
  }
 },
 "nbformat": 4,
 "nbformat_minor": 5
}
