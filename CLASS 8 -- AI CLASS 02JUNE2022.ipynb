{
 "cells": [
  {
   "cell_type": "markdown",
   "id": "1224a1b3",
   "metadata": {},
   "source": [
    "# For LOOP"
   ]
  },
  {
   "cell_type": "code",
   "execution_count": 1,
   "id": "3fa77d2e",
   "metadata": {},
   "outputs": [
    {
     "data": {
      "text/plain": [
       "range(0, 10)"
      ]
     },
     "execution_count": 1,
     "metadata": {},
     "output_type": "execute_result"
    }
   ],
   "source": [
    "range (10)"
   ]
  },
  {
   "cell_type": "code",
   "execution_count": 2,
   "id": "0f87a397",
   "metadata": {},
   "outputs": [
    {
     "name": "stdout",
     "output_type": "stream",
     "text": [
      "0\n",
      "1\n",
      "2\n",
      "3\n",
      "4\n",
      "5\n",
      "6\n",
      "7\n",
      "8\n",
      "9\n"
     ]
    }
   ],
   "source": [
    "# FOR loop iterate those which are iterable e.g: string, list etc.\n",
    "for i in range(10):\n",
    "    print(i)"
   ]
  },
  {
   "cell_type": "code",
   "execution_count": 4,
   "id": "32f70653",
   "metadata": {},
   "outputs": [
    {
     "name": "stdout",
     "output_type": "stream",
     "text": [
      "3 4 5 6 7 8 "
     ]
    }
   ],
   "source": [
    "for i in range(3,9):\n",
    "    print(i, end = \" \")"
   ]
  },
  {
   "cell_type": "code",
   "execution_count": 5,
   "id": "b0968bc4",
   "metadata": {},
   "outputs": [
    {
     "data": {
      "text/plain": [
       "range(10, 3)"
      ]
     },
     "execution_count": 5,
     "metadata": {},
     "output_type": "execute_result"
    }
   ],
   "source": [
    "range(10,3)"
   ]
  },
  {
   "cell_type": "code",
   "execution_count": 6,
   "id": "b94b3b2c",
   "metadata": {},
   "outputs": [
    {
     "name": "stdout",
     "output_type": "stream",
     "text": [
      "10 9 8 7 6 5 4 3 2 "
     ]
    }
   ],
   "source": [
    "for i in range(10,1,-1):\n",
    "    print(i, end = \" \")"
   ]
  },
  {
   "cell_type": "code",
   "execution_count": 12,
   "id": "15eccb10",
   "metadata": {},
   "outputs": [
    {
     "name": "stdout",
     "output_type": "stream",
     "text": [
      "1 3 5 7 9 "
     ]
    }
   ],
   "source": [
    "#Even Number if range 1st parameter starts with 1.\n",
    "for i in range(1,10,2):\n",
    "    print(i, end = \" \")"
   ]
  },
  {
   "cell_type": "code",
   "execution_count": 17,
   "id": "68e4559b",
   "metadata": {},
   "outputs": [
    {
     "name": "stdout",
     "output_type": "stream",
     "text": [
      "0 2 4 6 8 "
     ]
    }
   ],
   "source": [
    "#Odd Number if range 1st parameter starts with 0.\n",
    "for i in range(0,10,2):\n",
    "    print(i, end = \" \")"
   ]
  },
  {
   "cell_type": "code",
   "execution_count": 23,
   "id": "af7af833",
   "metadata": {},
   "outputs": [
    {
     "name": "stdout",
     "output_type": "stream",
     "text": [
      "0 3 6 9 "
     ]
    }
   ],
   "source": [
    "for i in range(0,10,3):\n",
    "    print(i, end = \" \")"
   ]
  },
  {
   "cell_type": "code",
   "execution_count": 4,
   "id": "a0ca9e82",
   "metadata": {},
   "outputs": [
    {
     "name": "stdout",
     "output_type": "stream",
     "text": [
      "10 7 4 "
     ]
    }
   ],
   "source": [
    "for i in range(10,2,-3):\n",
    "    print(i, end = \" \")"
   ]
  },
  {
   "cell_type": "code",
   "execution_count": 15,
   "id": "f226843f",
   "metadata": {},
   "outputs": [
    {
     "name": "stdout",
     "output_type": "stream",
     "text": [
      "1\n",
      "2\n",
      "3\n",
      "4\n",
      "5\n",
      "6\n",
      "7\n",
      "8\n",
      "9\n",
      "10\n",
      "11\n"
     ]
    }
   ],
   "source": [
    "for i in range(1,1000):\n",
    "    if i%11==0:\n",
    "        print(i)\n",
    "        break\n",
    "    print(i)"
   ]
  },
  {
   "cell_type": "code",
   "execution_count": 9,
   "id": "c9b4a227",
   "metadata": {},
   "outputs": [
    {
     "name": "stdout",
     "output_type": "stream",
     "text": [
      "[2, 4, 6, 8, 10, 12, 14, 16, 18, 20, 22, 24, 26, 28, 30, 32, 34, 36, 38, 40, 42, 44, 46, 48]\n",
      "[1, 3, 5, 7, 9, 11, 13, 15, 17, 19, 21, 23, 25, 27, 29, 31, 33, 35, 37, 39, 41, 43, 45, 47, 49]\n"
     ]
    }
   ],
   "source": [
    "even = []\n",
    "odd = []\n",
    "for i in range(1,50):\n",
    "    if i%2==0:\n",
    "        even.append(i)\n",
    "    else:\n",
    "        odd.append(i)\n",
    "print(even)\n",
    "print(odd)"
   ]
  },
  {
   "cell_type": "code",
   "execution_count": 16,
   "id": "3bc593e0",
   "metadata": {},
   "outputs": [
    {
     "name": "stdout",
     "output_type": "stream",
     "text": [
      "Even Numbers: \t\t [2, 4, 6, 8, 12, 14, 16, 18, 22, 24, 26, 28, 32, 34, 36, 38, 42, 44, 46, 48]\n",
      "Odd Numbers: \t\t [1, 3, 7, 9, 11, 13, 17, 19, 21, 23, 27, 29, 31, 33, 37, 39, 41, 43, 47, 49]\n",
      "Divisible by 5: \t [5, 10, 15, 20, 25, 30, 35, 40, 45]\n"
     ]
    }
   ],
   "source": [
    "even = []\n",
    "odd = []\n",
    "divisible_by_5 = []\n",
    "for i in range(1,50):\n",
    "    if i%2==0 and i%5!=0:\n",
    "        even.append(i)\n",
    "    elif i%5!=0:\n",
    "        odd.append(i)\n",
    "    else:\n",
    "        divisible_by_5.append(i)\n",
    "print(\"Even Numbers: \\t\\t\",even)\n",
    "print(\"Odd Numbers: \\t\\t\", odd)\n",
    "print(\"Divisible by 5: \\t\", divisible_by_5)"
   ]
  },
  {
   "cell_type": "code",
   "execution_count": 21,
   "id": "ceff72f8",
   "metadata": {},
   "outputs": [
    {
     "name": "stdout",
     "output_type": "stream",
     "text": [
      "Prime Numbers are:  [1, 2, 3, 4, 5, 6, 7, 8, 9, 10, 11, 12, 13, 14, 15, 16, 17, 18, 19, 20, 21, 22, 23, 24, 25, 26, 27, 28, 29, 30, 31, 32, 33, 34, 35, 36, 37, 38, 39, 40, 41, 42, 43, 44, 45, 46, 47, 48, 49, 50, 51, 52, 53, 54, 55, 56, 57, 58, 59, 60, 61, 62, 63, 64, 65, 66, 67, 68, 69, 70, 71, 72, 73, 74, 75, 76, 77, 78, 79, 80, 81, 82, 83, 84, 85, 86, 87, 88, 89, 90, 91, 92, 93, 94, 95, 96, 97, 98, 99]\n",
      "Other Numbers are:  []\n"
     ]
    }
   ],
   "source": [
    "prime_number = []\n",
    "other_number = []\n",
    "for i in range(1,100):\n",
    "    if i/i!=0:\n",
    "        prime_number.append(i)\n",
    "    else:\n",
    "        other_number.append(i)\n",
    "        \n",
    "print(\"Prime Numbers are: \", prime_number)\n",
    "print(\"Other Numbers are: \", other_number)"
   ]
  },
  {
   "cell_type": "code",
   "execution_count": 34,
   "id": "7b451244",
   "metadata": {},
   "outputs": [
    {
     "name": "stdout",
     "output_type": "stream",
     "text": [
      "Even Numbers: \t\t [2, 4, 6, 8, 12, 14, 16, 18, 22, 24, 26, 28, 32, 34, 36, 38, 42, 44, 46, 48]\n",
      "Odd Numbers: \t\t [1, 3, 7, 9, 11, 13, 17, 19, 21, 23, 27, 29, 31, 33, 37, 39, 41, 43, 47, 49]\n"
     ]
    }
   ],
   "source": [
    "even = []\n",
    "odd = []\n",
    "#divisible_by_5 = []\n",
    "for i in range(1,50):\n",
    "    if i%5!=0:\n",
    "        if(i%2==0):\n",
    "            even.append(i)\n",
    "        else:\n",
    "            odd.append(i)\n",
    "    #else:\n",
    "    #    divisible_by_5.append(i)\n",
    "print(\"Even Numbers: \\t\\t\",even)\n",
    "print(\"Odd Numbers: \\t\\t\", odd)\n",
    "#print(\"Divisible by 5: \\t\", divisible_by_5)"
   ]
  },
  {
   "cell_type": "code",
   "execution_count": 35,
   "id": "31701afe",
   "metadata": {},
   "outputs": [
    {
     "name": "stdout",
     "output_type": "stream",
     "text": [
      "1\n",
      "3\n",
      "5\n",
      "7\n",
      "9\n"
     ]
    }
   ],
   "source": [
    "for num in range(1,10):\n",
    "    if num%2==0:\n",
    "        continue\n",
    "    else:\n",
    "        print(num)"
   ]
  },
  {
   "cell_type": "code",
   "execution_count": 40,
   "id": "f1a5da74",
   "metadata": {},
   "outputs": [
    {
     "name": "stdout",
     "output_type": "stream",
     "text": [
      "1 2 3 4 5 6 8 9 "
     ]
    }
   ],
   "source": [
    "for num in range(1,10):\n",
    "    if num==7:\n",
    "        continue #continue keyword skip the iteration\n",
    "    else:\n",
    "        print(num, end=\" \")"
   ]
  },
  {
   "cell_type": "markdown",
   "id": "ade674b9",
   "metadata": {},
   "source": [
    "# Iterating over a list using for Loop"
   ]
  },
  {
   "cell_type": "code",
   "execution_count": 43,
   "id": "7b2362f0",
   "metadata": {},
   "outputs": [
    {
     "name": "stdout",
     "output_type": "stream",
     "text": [
      "Ali Wali Umar Bilal Hasnain "
     ]
    }
   ],
   "source": [
    "list1 = [\"Ali\",\"Wali\", \"Umar\", \"Bilal\", \"Hasnain\"]\n",
    "for name in list1:\n",
    "    print(name, end=' ')"
   ]
  },
  {
   "cell_type": "code",
   "execution_count": 44,
   "id": "424c0aa0",
   "metadata": {},
   "outputs": [
    {
     "name": "stdout",
     "output_type": "stream",
     "text": [
      "Umar Bilal "
     ]
    }
   ],
   "source": [
    "list1 = [\"Ali\",\"Wali\", \"Umar\", \"Bilal\", \"Hasnain\"]\n",
    "for name in list1[2:4]:\n",
    "    print(name, end=' ')"
   ]
  },
  {
   "cell_type": "code",
   "execution_count": 54,
   "id": "8ac2499e",
   "metadata": {},
   "outputs": [
    {
     "name": "stdout",
     "output_type": "stream",
     "text": [
      "Enter name: Ali\n",
      "Enter name: wali\n",
      "Enter name: Dildar\n",
      "Enter name: Kazim\n",
      "Guests are:  ['wali', 'Dildar', 'Kazim']\n"
     ]
    }
   ],
   "source": [
    "guest_list = []\n",
    "\n",
    "for names in range(1,5):\n",
    "    names = input(\"Enter name: \")\n",
    "    \n",
    "    \n",
    "    if names == \"Ali\":\n",
    "        continue\n",
    "    else:\n",
    "        guest_list.append(names)\n",
    "print(\"Guests are: \", guest_list)\n",
    "    "
   ]
  },
  {
   "cell_type": "code",
   "execution_count": 64,
   "id": "0dd6dcf1",
   "metadata": {},
   "outputs": [
    {
     "name": "stdout",
     "output_type": "stream",
     "text": [
      "Enter name: ali\n",
      "Enter name: wali\n",
      "Enter name: kazim\n",
      "Enter name: dildar\n",
      "Guests are:  ['wali', 'kazim']\n"
     ]
    }
   ],
   "source": [
    "guest_list = []\n",
    "\n",
    "for names in range(1,5):\n",
    "    names = input(\"Enter name: \").lower()\n",
    "    \n",
    "    \n",
    "    if names == \"ali\":\n",
    "        continue\n",
    "    else:\n",
    "        guest_list.append(names)\n",
    "print(\"Guests are: \", guest_list)"
   ]
  },
  {
   "cell_type": "code",
   "execution_count": 62,
   "id": "eff197bb",
   "metadata": {},
   "outputs": [
    {
     "name": "stdout",
     "output_type": "stream",
     "text": [
      "Enter name: ali\n",
      "Enter name: wali\n",
      "Enter name: kazim\n",
      "Enter name: dildar\n",
      "Guests are:  []\n"
     ]
    }
   ],
   "source": [
    "guest_list = []\n",
    "\n",
    "for names in range(1,5):\n",
    "    names = input(\"Enter name: \").lower()\n",
    "    \n",
    "    \n",
    "    if names != \"ali\":\n",
    "        guest_list.append(names)\n",
    "print(\"Guests are: \", guest_list)"
   ]
  },
  {
   "cell_type": "code",
   "execution_count": 58,
   "id": "7443c6b5",
   "metadata": {},
   "outputs": [
    {
     "data": {
      "text/plain": [
       "False"
      ]
     },
     "execution_count": 58,
     "metadata": {},
     "output_type": "execute_result"
    }
   ],
   "source": [
    "'Kazim' in guest_list"
   ]
  },
  {
   "cell_type": "code",
   "execution_count": 59,
   "id": "d68954df",
   "metadata": {},
   "outputs": [
    {
     "data": {
      "text/plain": [
       "True"
      ]
     },
     "execution_count": 59,
     "metadata": {},
     "output_type": "execute_result"
    }
   ],
   "source": [
    "'kazim' in guest_list"
   ]
  },
  {
   "cell_type": "code",
   "execution_count": 65,
   "id": "ac902f91",
   "metadata": {},
   "outputs": [
    {
     "name": "stdout",
     "output_type": "stream",
     "text": [
      "Enter name: ali\n"
     ]
    },
    {
     "ename": "NameError",
     "evalue": "name 'noEntry' is not defined",
     "output_type": "error",
     "traceback": [
      "\u001b[1;31m---------------------------------------------------------------------------\u001b[0m",
      "\u001b[1;31mNameError\u001b[0m                                 Traceback (most recent call last)",
      "\u001b[1;32mC:\\Users\\LAB02R~1\\AppData\\Local\\Temp/ipykernel_10692/4283825747.py\u001b[0m in \u001b[0;36m<module>\u001b[1;34m\u001b[0m\n\u001b[0;32m      5\u001b[0m \u001b[1;33m\u001b[0m\u001b[0m\n\u001b[0;32m      6\u001b[0m \u001b[1;33m\u001b[0m\u001b[0m\n\u001b[1;32m----> 7\u001b[1;33m     \u001b[1;32mif\u001b[0m \u001b[0mnames\u001b[0m \u001b[1;33m!=\u001b[0m \u001b[1;34m\"ali\"\u001b[0m \u001b[1;32mor\u001b[0m \u001b[0mnoEntry\u001b[0m \u001b[1;32min\u001b[0m \u001b[0mguest_list\u001b[0m\u001b[1;33m:\u001b[0m\u001b[1;33m\u001b[0m\u001b[1;33m\u001b[0m\u001b[0m\n\u001b[0m\u001b[0;32m      8\u001b[0m         \u001b[0mguest_list\u001b[0m\u001b[1;33m.\u001b[0m\u001b[0mappend\u001b[0m\u001b[1;33m(\u001b[0m\u001b[0mnames\u001b[0m\u001b[1;33m)\u001b[0m\u001b[1;33m\u001b[0m\u001b[1;33m\u001b[0m\u001b[0m\n\u001b[0;32m      9\u001b[0m \u001b[0mprint\u001b[0m\u001b[1;33m(\u001b[0m\u001b[1;34m\"Guests are: \"\u001b[0m\u001b[1;33m,\u001b[0m \u001b[0mguest_list\u001b[0m\u001b[1;33m)\u001b[0m\u001b[1;33m\u001b[0m\u001b[1;33m\u001b[0m\u001b[0m\n",
      "\u001b[1;31mNameError\u001b[0m: name 'noEntry' is not defined"
     ]
    }
   ],
   "source": [
    "guest_list = []\n",
    "\n",
    "for names in range(1,5):\n",
    "    names = input(\"Enter name: \").lower()\n",
    "    \n",
    "    \n",
    "    if names != \"ali\" or noEntry in guest_list:\n",
    "        guest_list.append(names)\n",
    "print(\"Guests are: \", guest_list)"
   ]
  },
  {
   "cell_type": "code",
   "execution_count": null,
   "id": "beb90116",
   "metadata": {},
   "outputs": [],
   "source": []
  }
 ],
 "metadata": {
  "kernelspec": {
   "display_name": "Python 3 (ipykernel)",
   "language": "python",
   "name": "python3"
  },
  "language_info": {
   "codemirror_mode": {
    "name": "ipython",
    "version": 3
   },
   "file_extension": ".py",
   "mimetype": "text/x-python",
   "name": "python",
   "nbconvert_exporter": "python",
   "pygments_lexer": "ipython3",
   "version": "3.9.7"
  }
 },
 "nbformat": 4,
 "nbformat_minor": 5
}
