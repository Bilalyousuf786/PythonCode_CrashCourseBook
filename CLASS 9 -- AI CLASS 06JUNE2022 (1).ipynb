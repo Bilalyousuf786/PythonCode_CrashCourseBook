{
 "cells": [
  {
   "cell_type": "code",
   "execution_count": 4,
   "id": "00f38ad4",
   "metadata": {},
   "outputs": [
    {
     "name": "stdout",
     "output_type": "stream",
     "text": [
      "1 2 3 4 5 6 7 8 9 10 11 12 13 14 15 16 17 18 19 "
     ]
    }
   ],
   "source": [
    "# \n",
    "\n",
    "for i in range (1,20):\n",
    "    print(i, end=\" \")"
   ]
  },
  {
   "cell_type": "code",
   "execution_count": 1,
   "id": "c9b18100",
   "metadata": {},
   "outputs": [
    {
     "name": "stderr",
     "output_type": "stream",
     "text": [
      "IOPub data rate exceeded.\n",
      "The notebook server will temporarily stop sending output\n",
      "to the client in order to avoid crashing it.\n",
      "To change this limit, set the config variable\n",
      "`--NotebookApp.iopub_data_rate_limit`.\n",
      "\n",
      "Current values:\n",
      "NotebookApp.iopub_data_rate_limit=1000000.0 (bytes/sec)\n",
      "NotebookApp.rate_limit_window=3.0 (secs)\n",
      "\n"
     ]
    }
   ],
   "source": [
    "#for i in range(1, 1000000):\n",
    " #   print(i)\n",
    "    \n",
    "list1 = list(range(1,1000000))\n",
    "print(list1)"
   ]
  },
  {
   "cell_type": "code",
   "execution_count": 6,
   "id": "5501ca7e",
   "metadata": {},
   "outputs": [
    {
     "data": {
      "text/plain": [
       "1"
      ]
     },
     "execution_count": 6,
     "metadata": {},
     "output_type": "execute_result"
    }
   ],
   "source": [
    "value = range(1,100000)\n",
    "min(value)"
   ]
  },
  {
   "cell_type": "code",
   "execution_count": 7,
   "id": "63a7f53b",
   "metadata": {},
   "outputs": [
    {
     "name": "stdout",
     "output_type": "stream",
     "text": [
      "1 \n",
      " 99999\n"
     ]
    }
   ],
   "source": [
    "value = range(1,100000)\n",
    "print(min(value), \"\\n\",max(value))"
   ]
  },
  {
   "cell_type": "code",
   "execution_count": 3,
   "id": "ce897c5c",
   "metadata": {},
   "outputs": [
    {
     "data": {
      "text/plain": [
       "99999"
      ]
     },
     "execution_count": 3,
     "metadata": {},
     "output_type": "execute_result"
    }
   ],
   "source": [
    "value = range(1,100000)\n",
    "max(value)"
   ]
  },
  {
   "cell_type": "code",
   "execution_count": 5,
   "id": "ee53f373",
   "metadata": {},
   "outputs": [
    {
     "data": {
      "text/plain": [
       "499999500000"
      ]
     },
     "execution_count": 5,
     "metadata": {},
     "output_type": "execute_result"
    }
   ],
   "source": [
    "value = range(1,1000000)\n",
    "sum(value)"
   ]
  },
  {
   "cell_type": "code",
   "execution_count": 12,
   "id": "663113d8",
   "metadata": {},
   "outputs": [
    {
     "name": "stdout",
     "output_type": "stream",
     "text": [
      "[1, 3, 5, 7, 9, 11, 13, 15, 17, 19]\n"
     ]
    }
   ],
   "source": [
    "\n",
    "odd = []\n",
    "for i in range(1,20):\n",
    "    if i%2!=0:\n",
    "        odd.append(i)\n",
    "\n",
    "print(odd)"
   ]
  },
  {
   "cell_type": "code",
   "execution_count": 24,
   "id": "411faba9",
   "metadata": {},
   "outputs": [
    {
     "name": "stdout",
     "output_type": "stream",
     "text": [
      "[3, 6, 9, 12, 15, 18, 21, 24, 27, 30]\n"
     ]
    }
   ],
   "source": [
    "table3 = []\n",
    "\n",
    "for i in range (1,11):\n",
    "    a = i*3\n",
    "    table3.append(a)\n",
    "print(table3)"
   ]
  },
  {
   "cell_type": "code",
   "execution_count": 8,
   "id": "62bb683c",
   "metadata": {},
   "outputs": [
    {
     "name": "stdout",
     "output_type": "stream",
     "text": [
      "[1, 8, 27, 64, 125, 216, 343, 512, 729, 1000]\n"
     ]
    }
   ],
   "source": [
    "cube_of_a_number = []\n",
    "\n",
    "for i in range (1,11):\n",
    "    a = i**3\n",
    "    cube_of_a_number.append(a)\n",
    "print(cube_of_a_number)"
   ]
  },
  {
   "cell_type": "markdown",
   "id": "e14d583b",
   "metadata": {},
   "source": [
    "# LIST Comprehension"
   ]
  },
  {
   "cell_type": "code",
   "execution_count": 31,
   "id": "c9eaa6c4",
   "metadata": {},
   "outputs": [
    {
     "name": "stdout",
     "output_type": "stream",
     "text": [
      "Simple Method [1, 4, 9, 16, 25, 36, 49, 64, 81, 100]\n",
      "List Comprehension Method [1, 4, 9, 16, 25, 36, 49, 64, 81, 100]\n"
     ]
    }
   ],
   "source": [
    "squares1 = []\n",
    "\n",
    "for num in range(1,11):\n",
    "    square = num **2\n",
    "    squares1.append(square)\n",
    "print(\"Simple Method\", squares1)\n",
    "\n",
    "# OR\n",
    "\n",
    "squares2 = [num**2 for num in range(1,11)]\n",
    "print(\"List Comprehension Method\", squares2)"
   ]
  },
  {
   "cell_type": "code",
   "execution_count": 32,
   "id": "a1fea36a",
   "metadata": {},
   "outputs": [
    {
     "name": "stdout",
     "output_type": "stream",
     "text": [
      "[1, 8, 27, 64, 125, 216, 343, 512, 729, 1000]\n"
     ]
    }
   ],
   "source": [
    "cube = [i**3 for i in range (1,11)]\n",
    "print(cube)"
   ]
  },
  {
   "cell_type": "code",
   "execution_count": 39,
   "id": "f1a6c36c",
   "metadata": {},
   "outputs": [
    {
     "ename": "SyntaxError",
     "evalue": "invalid syntax (Temp/ipykernel_12156/2828252670.py, line 3)",
     "output_type": "error",
     "traceback": [
      "\u001b[1;36m  File \u001b[1;32m\"C:\\Users\\LAB02R~1\\AppData\\Local\\Temp/ipykernel_12156/2828252670.py\"\u001b[1;36m, line \u001b[1;32m3\u001b[0m\n\u001b[1;33m    cube = [i**3 for i in range (1,11) continue if num == 9 ]\u001b[0m\n\u001b[1;37m                                       ^\u001b[0m\n\u001b[1;31mSyntaxError\u001b[0m\u001b[1;31m:\u001b[0m invalid syntax\n"
     ]
    }
   ],
   "source": [
    "# with conditions\n",
    "\n",
    "cube = [i**3 for i in range (1,11) continue if num == 9 ]\n",
    "print(cube)"
   ]
  },
  {
   "cell_type": "code",
   "execution_count": null,
   "id": "45ad31b9",
   "metadata": {},
   "outputs": [],
   "source": []
  }
 ],
 "metadata": {
  "kernelspec": {
   "display_name": "Python 3 (ipykernel)",
   "language": "python",
   "name": "python3"
  },
  "language_info": {
   "codemirror_mode": {
    "name": "ipython",
    "version": 3
   },
   "file_extension": ".py",
   "mimetype": "text/x-python",
   "name": "python",
   "nbconvert_exporter": "python",
   "pygments_lexer": "ipython3",
   "version": "3.9.7"
  }
 },
 "nbformat": 4,
 "nbformat_minor": 5
}
