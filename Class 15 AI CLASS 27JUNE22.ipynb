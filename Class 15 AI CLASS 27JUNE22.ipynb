{
 "cells": [
  {
   "cell_type": "markdown",
   "id": "7b9f86e5",
   "metadata": {},
   "source": [
    "# FUNCTIONS CONTINUE......"
   ]
  },
  {
   "cell_type": "code",
   "execution_count": 7,
   "id": "9f74d9dd",
   "metadata": {},
   "outputs": [],
   "source": [
    "def square(num):\n",
    "    #local variable\n",
    "    square = num*num\n",
    "    print(square)\n",
    "    "
   ]
  },
  {
   "cell_type": "code",
   "execution_count": 8,
   "id": "b300d72c",
   "metadata": {},
   "outputs": [
    {
     "name": "stdout",
     "output_type": "stream",
     "text": [
      "36\n"
     ]
    }
   ],
   "source": [
    "square(6)"
   ]
  },
  {
   "cell_type": "code",
   "execution_count": 19,
   "id": "d13f7e4f",
   "metadata": {},
   "outputs": [],
   "source": [
    "def square(num):\n",
    "    #local variable\n",
    "    sqr = num*num\n",
    "    print(sqr)\n",
    "    #global variable\n",
    "    global name\n",
    "    name = \"Saylani\""
   ]
  },
  {
   "cell_type": "code",
   "execution_count": 20,
   "id": "bca0118a",
   "metadata": {},
   "outputs": [
    {
     "name": "stdout",
     "output_type": "stream",
     "text": [
      "Saylani\n"
     ]
    }
   ],
   "source": [
    "square(7)\n",
    "print(name)"
   ]
  },
  {
   "cell_type": "code",
   "execution_count": 21,
   "id": "1d4cd703",
   "metadata": {},
   "outputs": [
    {
     "data": {
      "text/plain": [
       "100"
      ]
     },
     "execution_count": 21,
     "metadata": {},
     "output_type": "execute_result"
    }
   ],
   "source": [
    "# kisi b block k andar 1 hi return hota hai multiple return nai hote\n",
    "def square(num):\n",
    "    sqr = num * num\n",
    "    return sqr\n",
    "square(10)"
   ]
  },
  {
   "cell_type": "code",
   "execution_count": 25,
   "id": "ed89acfc",
   "metadata": {},
   "outputs": [
    {
     "data": {
      "text/plain": [
       "100"
      ]
     },
     "execution_count": 25,
     "metadata": {},
     "output_type": "execute_result"
    }
   ],
   "source": [
    "def square(num):\n",
    "    return num **2\n",
    "     \n",
    "square(10)"
   ]
  },
  {
   "cell_type": "code",
   "execution_count": 26,
   "id": "25e79f9e",
   "metadata": {},
   "outputs": [
    {
     "data": {
      "text/plain": [
       "100"
      ]
     },
     "execution_count": 26,
     "metadata": {},
     "output_type": "execute_result"
    }
   ],
   "source": [
    "def square(num):\n",
    "    return num **2\n",
    "     \n",
    "square(10)"
   ]
  },
  {
   "cell_type": "code",
   "execution_count": 27,
   "id": "17ce34bf",
   "metadata": {},
   "outputs": [
    {
     "data": {
      "text/plain": [
       "(100, 'hello', True)"
      ]
     },
     "execution_count": 27,
     "metadata": {},
     "output_type": "execute_result"
    }
   ],
   "source": [
    "def square(num):\n",
    "    return num **2, \"hello\", True \n",
    "     \n",
    "square(10)"
   ]
  },
  {
   "cell_type": "code",
   "execution_count": 31,
   "id": "3b39e145",
   "metadata": {},
   "outputs": [
    {
     "data": {
      "text/plain": [
       "30"
      ]
     },
     "execution_count": 31,
     "metadata": {},
     "output_type": "execute_result"
    }
   ],
   "source": [
    "def add(num1,num2):\n",
    "    return num1 + num2\n",
    "add(10,20)"
   ]
  },
  {
   "cell_type": "code",
   "execution_count": 33,
   "id": "2483ca43",
   "metadata": {},
   "outputs": [],
   "source": [
    "def add(num1, num2):\n",
    "    total = num1 + num2\n",
    "    global namee\n",
    "    namee = \"Asad\"\n",
    "    return total"
   ]
  },
  {
   "cell_type": "code",
   "execution_count": 34,
   "id": "f000ddb9",
   "metadata": {},
   "outputs": [
    {
     "data": {
      "text/plain": [
       "7"
      ]
     },
     "execution_count": 34,
     "metadata": {},
     "output_type": "execute_result"
    }
   ],
   "source": [
    "add(3,4)"
   ]
  },
  {
   "cell_type": "code",
   "execution_count": 35,
   "id": "7c6d519f",
   "metadata": {},
   "outputs": [
    {
     "name": "stdout",
     "output_type": "stream",
     "text": [
      "Asad\n"
     ]
    }
   ],
   "source": [
    "print(namee)"
   ]
  },
  {
   "cell_type": "code",
   "execution_count": 36,
   "id": "14923e78",
   "metadata": {},
   "outputs": [],
   "source": [
    "def sub(v1,v2): #jab function kuch return nai karega to NONE aaega.\n",
    "    ans = v1+v2\n",
    "    print(ans)"
   ]
  },
  {
   "cell_type": "code",
   "execution_count": 37,
   "id": "1ad81701",
   "metadata": {},
   "outputs": [
    {
     "name": "stdout",
     "output_type": "stream",
     "text": [
      "50\n",
      "None\n"
     ]
    }
   ],
   "source": [
    "print(sub(20,30))"
   ]
  },
  {
   "cell_type": "code",
   "execution_count": 38,
   "id": "6e2944d1",
   "metadata": {},
   "outputs": [],
   "source": [
    "def sub(v1,v2):\n",
    "    ans = v1+v2\n",
    "    return ans"
   ]
  },
  {
   "cell_type": "code",
   "execution_count": 40,
   "id": "f91e6ebd",
   "metadata": {},
   "outputs": [
    {
     "name": "stdout",
     "output_type": "stream",
     "text": [
      "5\n"
     ]
    }
   ],
   "source": [
    "print(sub(2,3))"
   ]
  },
  {
   "cell_type": "markdown",
   "id": "56f3f88f",
   "metadata": {},
   "source": [
    "# Positional Parameters AND Argument"
   ]
  },
  {
   "cell_type": "code",
   "execution_count": 44,
   "id": "19a10b15",
   "metadata": {},
   "outputs": [],
   "source": [
    "def full_name(fname, lname):\n",
    "    fullName = fname + \" \"+ lname\n",
    "    return fullName"
   ]
  },
  {
   "cell_type": "code",
   "execution_count": 46,
   "id": "c4b377ec",
   "metadata": {},
   "outputs": [
    {
     "data": {
      "text/plain": [
       "'Bilal Hussain'"
      ]
     },
     "execution_count": 46,
     "metadata": {},
     "output_type": "execute_result"
    }
   ],
   "source": [
    "#  full_name(\"Hussain\",\"Bilal\") # positional parameters/arguments should set correctly\n",
    "full_name(\"Bilal\", \"Hussain\")"
   ]
  },
  {
   "cell_type": "markdown",
   "id": "2ba1ced0",
   "metadata": {},
   "source": [
    "# Default Parameters"
   ]
  },
  {
   "cell_type": "code",
   "execution_count": 60,
   "id": "c516a621",
   "metadata": {},
   "outputs": [],
   "source": [
    "def cube(num):\n",
    "    _cube = num **3\n",
    "    return _cube\n",
    "    "
   ]
  },
  {
   "cell_type": "code",
   "execution_count": 61,
   "id": "da3aa140",
   "metadata": {},
   "outputs": [
    {
     "ename": "TypeError",
     "evalue": "cube() missing 1 required positional argument: 'num'",
     "output_type": "error",
     "traceback": [
      "\u001b[1;31m---------------------------------------------------------------------------\u001b[0m",
      "\u001b[1;31mTypeError\u001b[0m                                 Traceback (most recent call last)",
      "\u001b[1;32mC:\\Users\\LAB02R~1\\AppData\\Local\\Temp/ipykernel_12224/1933812215.py\u001b[0m in \u001b[0;36m<module>\u001b[1;34m\u001b[0m\n\u001b[1;32m----> 1\u001b[1;33m \u001b[0mcube\u001b[0m\u001b[1;33m(\u001b[0m\u001b[1;33m)\u001b[0m\u001b[1;33m\u001b[0m\u001b[1;33m\u001b[0m\u001b[0m\n\u001b[0m",
      "\u001b[1;31mTypeError\u001b[0m: cube() missing 1 required positional argument: 'num'"
     ]
    }
   ],
   "source": [
    "cube()"
   ]
  },
  {
   "cell_type": "code",
   "execution_count": null,
   "id": "30dc81f1",
   "metadata": {},
   "outputs": [],
   "source": [
    "def cube(num=3):\n",
    "    _cube = num **3\n",
    "    return _cube\n",
    "    "
   ]
  },
  {
   "cell_type": "code",
   "execution_count": 58,
   "id": "9f8c21f2",
   "metadata": {},
   "outputs": [
    {
     "data": {
      "text/plain": [
       "1000"
      ]
     },
     "execution_count": 58,
     "metadata": {},
     "output_type": "execute_result"
    }
   ],
   "source": [
    "cube() # agar hum ne default value oper funcion main di lkin call krte waqt value nai di to wo default value ko use karega.\n",
    "       # agar hum ne function ko call krte waqt value dedi to wo called value pick karega rather than default value.\n",
    "#cube(10)"
   ]
  },
  {
   "cell_type": "code",
   "execution_count": 65,
   "id": "fb4a1067",
   "metadata": {},
   "outputs": [
    {
     "name": "stdout",
     "output_type": "stream",
     "text": [
      "1 2 3 4 8 10 77 "
     ]
    }
   ],
   "source": [
    "lst = [1,2,3,4,8,10,77]\n",
    "def max_num(lst = [1,2,3,4,8,10,77]):\n",
    "    for a in lst:\n",
    "        print(a, end = \" \")\n",
    "max_num()"
   ]
  },
  {
   "cell_type": "code",
   "execution_count": 70,
   "id": "faca51bf",
   "metadata": {},
   "outputs": [
    {
     "name": "stdout",
     "output_type": "stream",
     "text": [
      "77 1\n"
     ]
    }
   ],
   "source": [
    "arr = [1,2,3,4,8,10,77]\n",
    "def max_min_lst(arr):\n",
    "    return (max (arr), min(arr))\n",
    "_max, _min= max_min_lst([1,2,3,4,8,10,77])\n",
    "print(_max, _min)"
   ]
  },
  {
   "cell_type": "code",
   "execution_count": 83,
   "id": "37011749",
   "metadata": {},
   "outputs": [],
   "source": [
    "def dosqr(arr): # list compreshension\n",
    "    return [a**2 if a<10 else a for a in arr]"
   ]
  },
  {
   "cell_type": "code",
   "execution_count": 84,
   "id": "4f2bcebc",
   "metadata": {},
   "outputs": [
    {
     "data": {
      "text/plain": [
       "[1, 4, 9, 16, 64, 10, 11, 22]"
      ]
     },
     "execution_count": 84,
     "metadata": {},
     "output_type": "execute_result"
    }
   ],
   "source": [
    "dosqr([1,2,3,4,8,10, 11,22])"
   ]
  },
  {
   "cell_type": "code",
   "execution_count": 85,
   "id": "c099a855",
   "metadata": {},
   "outputs": [],
   "source": [
    "def dosqr(arr): # list compreshension\n",
    "    return [a**2 for a in arr if a<10]"
   ]
  },
  {
   "cell_type": "code",
   "execution_count": 86,
   "id": "b2c70428",
   "metadata": {},
   "outputs": [
    {
     "data": {
      "text/plain": [
       "[1, 4, 9, 16, 64]"
      ]
     },
     "execution_count": 86,
     "metadata": {},
     "output_type": "execute_result"
    }
   ],
   "source": [
    "dosqr([1,2,3,4,8,10, 11,22])"
   ]
  },
  {
   "cell_type": "code",
   "execution_count": 104,
   "id": "20e26008",
   "metadata": {},
   "outputs": [],
   "source": [
    "def discard_name_gtrThan10(arr):\n",
    "    return [name for name in arr if len(str(name))<10]"
   ]
  },
  {
   "cell_type": "code",
   "execution_count": 105,
   "id": "ce77a810",
   "metadata": {},
   "outputs": [
    {
     "data": {
      "text/plain": [
       "['Bilal', 'kazim']"
      ]
     },
     "execution_count": 105,
     "metadata": {},
     "output_type": "execute_result"
    }
   ],
   "source": [
    "discard_name_gtrThan10([\"Bilal\", \"Dildar_hussain\", \"kazim\"])"
   ]
  },
  {
   "cell_type": "code",
   "execution_count": null,
   "id": "06744c1c",
   "metadata": {},
   "outputs": [],
   "source": []
  }
 ],
 "metadata": {
  "kernelspec": {
   "display_name": "Python 3 (ipykernel)",
   "language": "python",
   "name": "python3"
  },
  "language_info": {
   "codemirror_mode": {
    "name": "ipython",
    "version": 3
   },
   "file_extension": ".py",
   "mimetype": "text/x-python",
   "name": "python",
   "nbconvert_exporter": "python",
   "pygments_lexer": "ipython3",
   "version": "3.9.7"
  }
 },
 "nbformat": 4,
 "nbformat_minor": 5
}
