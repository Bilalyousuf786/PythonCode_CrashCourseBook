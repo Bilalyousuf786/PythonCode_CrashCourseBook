{
 "cells": [
  {
   "cell_type": "markdown",
   "id": "6dc069c4",
   "metadata": {},
   "source": [
    "# IF ELIF"
   ]
  },
  {
   "cell_type": "code",
   "execution_count": 53,
   "id": "7bb984af",
   "metadata": {},
   "outputs": [
    {
     "name": "stdout",
     "output_type": "stream",
     "text": [
      "Enter Subject 1 marks: 50\n",
      "Enter Subject 2 marks: 80\n",
      "Enter Subject 3 marks: 60\n",
      "Enter Subject 4 marks: 90\n",
      "Enter Subject 5 marks: 40\n",
      "Enter name of student: john\n",
      "                \n",
      "                   Result card\n",
      "           Student Name:    John\n",
      "           Subject 1:       50.0\n",
      "           Subject 2:       80.0\n",
      "           Subject 3:       60.0\n",
      "           Subject 4:       90.0\n",
      "           Subject 5:       40.0\n",
      "\n",
      "           Obtained Marks: 320.0\n",
      "           Percentage :    64.0\n"
     ]
    }
   ],
   "source": [
    "subj1=float(input(\"Enter Subject 1 marks: \"))\n",
    "subj2=float(input(\"Enter Subject 2 marks: \"))\n",
    "subj3=float(input(\"Enter Subject 3 marks: \"))\n",
    "subj4=float(input(\"Enter Subject 4 marks: \"))\n",
    "subj5=float(input(\"Enter Subject 5 marks: \"))\n",
    "Name=input(\"Enter name of student: \")\n",
    "total= 500\n",
    "Grade=None\n",
    "\n",
    "obt_marks= subj1+subj2+subj3+subj4+subj5\n",
    "percentage= obt_marks/total *100\n",
    "\n",
    "if percentage>=70:\n",
    "    Grade='A'\n",
    "elif percentage>60 and percentage<70:\n",
    "    Grade='B'\n",
    "elif percentage>=50 and percentage<60:\n",
    "    Grade='C'\n",
    "elif percentage>=40 and percentage<50:\n",
    "    Grade='D'\n",
    "else:\n",
    "    Grade='F'\n",
    "\n",
    "print( f'''                \n",
    "                   Result card\n",
    "           Student Name:    {Name.title()}\n",
    "           Subject 1:       {subj1}\n",
    "           Subject 2:       {subj2}\n",
    "           Subject 3:       {subj3}\n",
    "           Subject 4:       {subj4}\n",
    "           Subject 5:       {subj5}\n",
    "\n",
    "           Obtained Marks: {obt_marks}\n",
    "           Percentage :    {percentage}''')"
   ]
  },
  {
   "cell_type": "markdown",
   "id": "80d05e53",
   "metadata": {},
   "source": [
    "# NESTED IF"
   ]
  },
  {
   "cell_type": "code",
   "execution_count": 50,
   "id": "7c332d2e",
   "metadata": {},
   "outputs": [
    {
     "name": "stdout",
     "output_type": "stream",
     "text": [
      "Enter username: tret\n",
      "Enter Password: rtre\n",
      "Username invalid\n"
     ]
    }
   ],
   "source": [
    "username ='xyz'\n",
    "passwrd= '123abc'\n",
    "\n",
    "usr_name=input(\"Enter username: \")\n",
    "passw=input(\"Enter Password: \")\n",
    "\n",
    "if username==usr_name:\n",
    "    if passwrd==passw:\n",
    "        print(\"Login Approved\")\n",
    "    else:\n",
    "        print(\"Password incorrect\")\n",
    "else:\n",
    "    print(\"Username invalid\")"
   ]
  },
  {
   "cell_type": "code",
   "execution_count": 1,
   "id": "1a4589f2",
   "metadata": {},
   "outputs": [
    {
     "name": "stdout",
     "output_type": "stream",
     "text": [
      "Enter username: asd\n",
      "Username invalid\n"
     ]
    }
   ],
   "source": [
    "username ='xyz'\n",
    "passwrd= '123abc'\n",
    "\n",
    "usr_name=input(\"Enter username: \")\n",
    "\n",
    "if username==usr_name:\n",
    "    passw=input(\"Enter Password: \")\n",
    "    if passwrd==passw:\n",
    "        print(\"Login Approved\")\n",
    "    else:\n",
    "        print(\"Password incorrect\")\n",
    "else:\n",
    "    print(\"Username invalid\")"
   ]
  },
  {
   "cell_type": "code",
   "execution_count": 1,
   "id": "a5b8ce22",
   "metadata": {},
   "outputs": [
    {
     "name": "stdout",
     "output_type": "stream",
     "text": [
      "Enter Subject 1 marks: 50\n",
      "Enter Subject 2 marks: 50\n",
      "Enter Subject 3 marks: 50\n",
      "Enter Subject 4 marks: 50\n",
      "Enter Subject 5 marks: 50\n",
      "Enter name of student: hh\n",
      "Result card generated. Do you want to see Result card (Y/N)\n",
      "Enter Selection: n\n",
      "Thank you\n"
     ]
    }
   ],
   "source": [
    "subj1=float(input(\"Enter Subject 1 marks: \"))\n",
    "subj2=float(input(\"Enter Subject 2 marks: \"))\n",
    "subj3=float(input(\"Enter Subject 3 marks: \"))\n",
    "subj4=float(input(\"Enter Subject 4 marks: \"))\n",
    "subj5=float(input(\"Enter Subject 5 marks: \"))\n",
    "Name=input(\"Enter name of student: \")\n",
    "total= 500\n",
    "Grade=None\n",
    "\n",
    "username ='xyz'\n",
    "passwrd= '123abc'\n",
    "\n",
    "obt_marks= subj1+subj2+subj3+subj4+subj5\n",
    "percentage= obt_marks/total *100\n",
    "\n",
    "if percentage>=70:\n",
    "    Grade='A'\n",
    "elif percentage>60 and percentage<70:\n",
    "    Grade='B'\n",
    "elif percentage>=50 and percentage<60:\n",
    "    Grade='C'\n",
    "elif percentage>=40 and percentage<50:\n",
    "    Grade='D'\n",
    "else:\n",
    "    Grade='F'\n",
    "\n",
    "print(\"Result card generated. Do you want to see Result card (Y/N)\")\n",
    "value= input(\"Enter Selection: \")\n",
    "\n",
    "if value=='Y'or value=='y':\n",
    "    usr_name=input(\"Enter username: \")\n",
    "    if usr_name==username:\n",
    "        passw=input(\"Enter Password: \")\n",
    "        if passw==passwrd:\n",
    "            print(\"Login Approved\")\n",
    "            print( f'''                \n",
    "                       Result card\n",
    "               Student Name:    {Name.title()}\n",
    "               Subject 1:       {subj1}\n",
    "               Subject 2:       {subj2}\n",
    "               Subject 3:       {subj3}\n",
    "               Subject 4:       {subj4}\n",
    "               Subject 5:       {subj5}\n",
    "\n",
    "               Obtained Marks: {obt_marks}\n",
    "               Percentage :    {percentage}''')\n",
    "        else:\n",
    "            print(\"Password incorrect\")\n",
    "    else:\n",
    "        print(\"Username invalid\")\n",
    "else:\n",
    "    print(\"Thank you\")"
   ]
  },
  {
   "cell_type": "code",
   "execution_count": null,
   "id": "80f5ea7c",
   "metadata": {},
   "outputs": [],
   "source": []
  }
 ],
 "metadata": {
  "kernelspec": {
   "display_name": "Python 3 (ipykernel)",
   "language": "python",
   "name": "python3"
  },
  "language_info": {
   "codemirror_mode": {
    "name": "ipython",
    "version": 3
   },
   "file_extension": ".py",
   "mimetype": "text/x-python",
   "name": "python",
   "nbconvert_exporter": "python",
   "pygments_lexer": "ipython3",
   "version": "3.9.7"
  }
 },
 "nbformat": 4,
 "nbformat_minor": 5
}
