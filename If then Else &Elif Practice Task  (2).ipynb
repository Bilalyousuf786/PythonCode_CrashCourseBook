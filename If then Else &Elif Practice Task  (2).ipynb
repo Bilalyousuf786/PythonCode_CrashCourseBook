{
 "cells": [
  {
   "cell_type": "raw",
   "metadata": {},
   "source": [
    "1) A company decided to give bonus of 5% to employee if his/her year of service is more than 5 years.\n",
    "Ask user for their salary and year of service and print the net bonus amount."
   ]
  },
  {
   "cell_type": "code",
   "execution_count": 8,
   "metadata": {},
   "outputs": [
    {
     "name": "stdout",
     "output_type": "stream",
     "text": [
      "Enter salary50000\n",
      " 50000\n",
      "Enter of service8\n",
      "8\n",
      "Your new bonused salary is : 52500.0\n"
     ]
    }
   ],
   "source": [
    "salary = int(input(\"Enter salary\"))\n",
    "print(\"\", salary)\n",
    "year_of_service = int(input(\"Enter of service\"))\n",
    "print(year_of_service)\n",
    "\n",
    "bonus = 0.05*salary\n",
    "if year_of_service >5:\n",
    "    bonused_salary = bonus + salary\n",
    "    print(\"Your new bonused salary is :\", bonused_salary)\n",
    "else:\n",
    "    print(\"You are not eligible for bonus\")"
   ]
  },
  {
   "cell_type": "markdown",
   "metadata": {},
   "source": [
    "\n",
    "2) Write a program to check whether a person is eligible for voting or not. (accept age from user)"
   ]
  },
  {
   "cell_type": "code",
   "execution_count": 3,
   "metadata": {},
   "outputs": [
    {
     "name": "stdout",
     "output_type": "stream",
     "text": [
      "Enter your age19\n",
      "You are eligible for voting\n"
     ]
    }
   ],
   "source": [
    "voter_age = int(input(\"Enter your age\"))\n",
    "if voter_age >=18:\n",
    "    print(\"You are eligible for voting\")\n",
    "else:\n",
    "    print(\"You are eligible for voting\")"
   ]
  },
  {
   "cell_type": "markdown",
   "metadata": {},
   "source": [
    "\n",
    "3) Write a program to check whether a number entered by user is even or odd."
   ]
  },
  {
   "cell_type": "code",
   "execution_count": 6,
   "metadata": {},
   "outputs": [
    {
     "name": "stdout",
     "output_type": "stream",
     "text": [
      "Enter a number5\n",
      "number is odd\n"
     ]
    }
   ],
   "source": [
    "even_or_odd = int(input(\"Enter a number\"))\n",
    "\n",
    "if even_or_odd%2==0:\n",
    "    print(\"number is even\")\n",
    "else:\n",
    "    print(\"number is odd\")"
   ]
  },
  {
   "cell_type": "markdown",
   "metadata": {},
   "source": [
    "4) Write a program to check whether a number is divisible by 7 or not.\n",
    "Show Answer"
   ]
  },
  {
   "cell_type": "code",
   "execution_count": 11,
   "metadata": {},
   "outputs": [
    {
     "name": "stdout",
     "output_type": "stream",
     "text": [
      "Enter a number48\n",
      "Number is not divisible by 7\n"
     ]
    }
   ],
   "source": [
    "num = int(input(\"Enter a number\"))\n",
    "if num%7==0:\n",
    "    print(\"Number is divisible by 7\")\n",
    "else:\n",
    "    print(\"Number is not divisible by 7\")"
   ]
  },
  {
   "cell_type": "raw",
   "metadata": {},
   "source": [
    "Q7. Write a program to display \n",
    "\"Hello\" if a number entered by user is a multiple of five , otherwise print \"Bye\"."
   ]
  },
  {
   "cell_type": "code",
   "execution_count": 14,
   "metadata": {},
   "outputs": [
    {
     "name": "stdout",
     "output_type": "stream",
     "text": [
      "Enter any number6\n",
      "Bye\n"
     ]
    }
   ],
   "source": [
    "num = int(input(\"Enter any number\"))\n",
    "\n",
    "if num%5==0:\n",
    "    print(\"Hello\")\n",
    "else:\n",
    "    print(\"Bye\")"
   ]
  },
  {
   "cell_type": "raw",
   "metadata": {},
   "source": [
    "\n",
    "Q8. Write a program to calculate the electricity bill (accept number of unit from user) according to the following criteria :\n",
    "             Unit                                                     Price  \n",
    "First 100 units                                               no charge\n",
    "Next 100 units                                              Rs 5 per unit\n",
    "After 200 units                                             Rs 10 per unit\n",
    "(For example if input unit is 350 than total bill amount is Rs2000)"
   ]
  },
  {
   "cell_type": "raw",
   "metadata": {},
   "source": [
    "290 units\n",
    "\n",
    "1-100 >>> 10\n",
    "101-200>>>>20\n",
    "200>>>>>> 30\n",
    "\n",
    "\n",
    "Slab1 = 100 * 10\n",
    "Slab2 = (units - 100) * 5\n",
    "Slab3 = (units - 200) * 10\n",
    "\n",
    "\n",
    "# LOGIC NO 1\n",
    "if Slab1 = 100 * 10\n",
    "if Slab2 = (units - 100) * 5\n",
    "if Slab3 = (units - 200) * 10\n",
    "\n",
    "\n",
    "total_bill =  Slab1+Slab2+Slab3\n",
    "\n",
    "# LOGIC NO 2\n",
    "if   100>>\n",
    "elif 200:\n",
    "   100\n",
    "   200\n",
    "elif\n",
    "   100\n",
    "   200\n",
    "   300"
   ]
  },
  {
   "cell_type": "code",
   "execution_count": 39,
   "metadata": {},
   "outputs": [
    {
     "name": "stdout",
     "output_type": "stream",
     "text": [
      "Enter units300\n",
      "Electricity bill Units are: 300\n",
      "1000\n",
      "Your electricity bill charges: 1500\n"
     ]
    }
   ],
   "source": [
    "units = int(input(\"Enter units\"))\n",
    "print(f\"Electricity bill Units are: {units}\")\n",
    "\n",
    "\n",
    "\n",
    "if units <=100:\n",
    "    slab1 = units * 0\n",
    "    \n",
    "if units>=101 & units<=200:\n",
    "    slab1 = 100*0\n",
    "    slab2 = (units - 100)* 5\n",
    "    \n",
    "    \n",
    "    print(slab1 + slab2)\n",
    "if units>200:\n",
    "    slab1 = 100 * 0\n",
    "    slab2 = 100 * 5\n",
    "    slab3 = (units - 200) * 10\n",
    "\n",
    "       \n",
    "print(\"Your electricity bill charges:\", slab1+slab2+slab3)"
   ]
  },
  {
   "cell_type": "raw",
   "metadata": {},
   "source": [
    "Write a program to display the last digit of a number.\n",
    "(hint : any number % 10 will return the last digit)"
   ]
  },
  {
   "cell_type": "code",
   "execution_count": 48,
   "metadata": {},
   "outputs": [
    {
     "name": "stdout",
     "output_type": "stream",
     "text": [
      "enter number9876\n",
      "6\n"
     ]
    }
   ],
   "source": [
    "num = int(input(\"enter number\"))\n",
    "\n",
    "last_digit = num%10\n",
    "print(last_digit)"
   ]
  },
  {
   "cell_type": "raw",
   "metadata": {},
   "source": [
    "\n",
    "Q10. Write a program to check whether the last digit of a number( entered by user ) is \n",
    "divisible by 3 or not."
   ]
  },
  {
   "cell_type": "code",
   "execution_count": 50,
   "metadata": {},
   "outputs": [
    {
     "name": "stdout",
     "output_type": "stream",
     "text": [
      "enter a numnber26\n",
      "Number is not divisible by 3\n"
     ]
    }
   ],
   "source": [
    "num = int(input(\"enter a numnber\"))\n",
    "if num%3==0:\n",
    "    print(\"Number is divisible by 3\")\n",
    "else:\n",
    "    print(\"Number is not divisible by 3\")"
   ]
  },
  {
   "cell_type": "raw",
   "metadata": {},
   "source": [
    "11) Take values of length and breadth of a rectangle from user and check if it is square or not."
   ]
  },
  {
   "cell_type": "code",
   "execution_count": 53,
   "metadata": {},
   "outputs": [
    {
     "name": "stdout",
     "output_type": "stream",
     "text": [
      "Enter length25\n",
      "Enter breadth25\n",
      "Its a square\n"
     ]
    }
   ],
   "source": [
    "length = int(input(\"Enter length\"))\n",
    "breadth = int(input(\"Enter breadth\"))\n",
    "\n",
    "if length == breadth:\n",
    "    print(\"Its a square\")\n",
    "else:\n",
    "    print(\"Its a rectangle\")"
   ]
  },
  {
   "cell_type": "raw",
   "metadata": {},
   "source": [
    "12) Take two int values from user and print greatest among them."
   ]
  },
  {
   "cell_type": "code",
   "execution_count": 59,
   "metadata": {},
   "outputs": [
    {
     "name": "stdout",
     "output_type": "stream",
     "text": [
      "Enter number 166\n",
      "Enter number 255\n",
      "66 is a greater number then 55\n"
     ]
    }
   ],
   "source": [
    "num1 = int(input(\"Enter number 1\"))\n",
    "num2 = int(input(\"Enter number 2\"))\n",
    "\n",
    "if num1 > num2:\n",
    "    print(f\"{num1} is a greater number then {num2}\")\n",
    "else:\n",
    "    print(f\"{num1} is smaller number then {num2}\")"
   ]
  },
  {
   "cell_type": "raw",
   "metadata": {},
   "source": [
    "14) A shop will give discount of 10% if the cost of purchased quantity is more than 1000.\n",
    "Ask user for quantity\n",
    "Suppose, one unit will cost 100.\n",
    "Judge and print total cost for user."
   ]
  },
  {
   "cell_type": "code",
   "execution_count": 5,
   "metadata": {},
   "outputs": [],
   "source": []
  },
  {
   "cell_type": "raw",
   "metadata": {},
   "source": [
    "15) A school has following rules for grading system:\n",
    "\n",
    "a. Below 25 - F\n",
    "\n",
    "b. 25 to 45 - E\n",
    "\n",
    "c. 45 to 50 - D\n",
    "\n",
    "d. 50 to 60 - C\n",
    "\n",
    "e. 60 to 80 - B\n",
    "\n",
    "f. Above 80 - A\n",
    "\n",
    "Ask user to enter marks and print the corresponding grade."
   ]
  },
  {
   "cell_type": "code",
   "execution_count": 6,
   "metadata": {},
   "outputs": [
    {
     "name": "stdout",
     "output_type": "stream",
     "text": [
      "Enter Marks60\n",
      "60\n",
      "B Grade\n"
     ]
    }
   ],
   "source": [
    "marks = int(input(\"Enter Marks\"))\n",
    "print(marks)\n",
    "if marks >80:\n",
    "    print(\"A Grade\")\n",
    "    \n",
    "elif marks>=60 & marks<=80:\n",
    "    print(\"B Grade\")\n",
    "    \n",
    "elif marks<=60 & marks>=50:\n",
    "    print(\"C Grade\")\n",
    "    \n",
    "elif marks<=50 & marks>=45:\n",
    "    print(\"D Grade\")\n",
    "    \n",
    "elif marks<=45 & marks>=25:\n",
    "    print(\"E Grade\")\n",
    "else:\n",
    "    print(\"F Grade\")"
   ]
  },
  {
   "cell_type": "raw",
   "metadata": {},
   "source": [
    "16) Take input of age of 3 people by user and determine oldest and youngest among them."
   ]
  },
  {
   "cell_type": "code",
   "execution_count": 6,
   "metadata": {},
   "outputs": [],
   "source": [
    "age1 = int(input(\"Ener age1\"))\n",
    "age2 = int(input(\"Ener age2\"))\n",
    "age3 = int(input(\"Ener age3\"))"
   ]
  },
  {
   "cell_type": "raw",
   "metadata": {},
   "source": [
    "17)A student will not be allowed to sit in exam if his/her attendence is less than 75%.\n",
    "\n",
    "Take following input from user\n",
    "\n",
    "Number of classes held\n",
    "\n",
    "Number of classes attended.\n",
    "\n",
    "And print\n",
    "\n",
    "percentage of class attended\n",
    "\n",
    "Is student is allowed to sit in exam or not.\n"
   ]
  },
  {
   "cell_type": "code",
   "execution_count": 8,
   "metadata": {},
   "outputs": [],
   "source": [
    "#Type your code here"
   ]
  },
  {
   "cell_type": "markdown",
   "metadata": {},
   "source": [
    "18) Modify the above question to allow student to sit if he/she has medical cause. Ask user if he/she has medical cause or not ( 'Y' or 'N' ) and print accordingly."
   ]
  },
  {
   "cell_type": "code",
   "execution_count": 9,
   "metadata": {},
   "outputs": [],
   "source": [
    "#Type your code here"
   ]
  },
  {
   "cell_type": "raw",
   "metadata": {},
   "source": [
    "19) Write a program to check if a year is leap year or not.\n",
    "\n",
    "If a year is divisible by 4 then it is leap year but if the year is century year like 2000, 1900, 2100 then it must be divisible by 400."
   ]
  },
  {
   "cell_type": "code",
   "execution_count": 10,
   "metadata": {},
   "outputs": [],
   "source": [
    "#Type your code here"
   ]
  },
  {
   "cell_type": "raw",
   "metadata": {},
   "source": [
    "20) Ask user to enter age, gender ( M or F ), marital status ( Y or N ) and then using following rules print their place of service.\n",
    "\n",
    "if employee is female, then she will work only in urban areas.\n",
    "\n",
    "if employee is a male and age is in between 20 to 40 then he may work in anywhere\n",
    "\n",
    "if employee is male and age is in between 40 t0 60 then he will work in urban areas only.\n",
    "\n",
    "And any other input of age should print \"ERROR\""
   ]
  },
  {
   "cell_type": "code",
   "execution_count": 11,
   "metadata": {},
   "outputs": [],
   "source": [
    "#Type your code here"
   ]
  },
  {
   "cell_type": "code",
   "execution_count": null,
   "metadata": {},
   "outputs": [],
   "source": []
  }
 ],
 "metadata": {
  "kernelspec": {
   "display_name": "Python 3 (ipykernel)",
   "language": "python",
   "name": "python3"
  },
  "language_info": {
   "codemirror_mode": {
    "name": "ipython",
    "version": 3
   },
   "file_extension": ".py",
   "mimetype": "text/x-python",
   "name": "python",
   "nbconvert_exporter": "python",
   "pygments_lexer": "ipython3",
   "version": "3.9.7"
  }
 },
 "nbformat": 4,
 "nbformat_minor": 2
}
