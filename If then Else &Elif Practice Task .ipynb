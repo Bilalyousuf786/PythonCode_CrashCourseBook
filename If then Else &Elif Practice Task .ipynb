{
 "cells": [
  {
   "cell_type": "raw",
   "metadata": {},
   "source": [
    "1) A company decided to give bonus of 5% to employee if his/her year of service is more than 5 years.\n",
    "Ask user for their salary and year of service and print the net bonus amount."
   ]
  },
  {
   "cell_type": "code",
   "execution_count": 10,
   "metadata": {},
   "outputs": [
    {
     "name": "stdout",
     "output_type": "stream",
     "text": [
      "Enter your salary : 8000\n",
      "enter your year of service: 8\n",
      "Your current salary is 8000\n",
      "\n",
      " Your new salary is 8400.0\n"
     ]
    }
   ],
   "source": [
    "salary = int(input(\"Enter your salary : \"))\n",
    "year = int(input(\"enter your year of service: \"))\n",
    "\n",
    "if year>5:\n",
    "    print(f'Your current salary is {salary}')\n",
    "    salary = salary+salary*0.05\n",
    "    print(f\"\\n Your new salary is {salary}\")\n",
    "\n",
    "else: \n",
    "    print(\"you are not eligible for bonus\")"
   ]
  },
  {
   "cell_type": "markdown",
   "metadata": {},
   "source": [
    "\n",
    "2) Write a program to check whether a person is eligible for voting or not. (accept age from user)"
   ]
  },
  {
   "cell_type": "code",
   "execution_count": 2,
   "metadata": {},
   "outputs": [
    {
     "name": "stdout",
     "output_type": "stream",
     "text": [
      "Enter age18\n",
      "you are eligible for vote\n"
     ]
    }
   ],
   "source": [
    "age=int(input(\"Enter age\"))\n",
    "\n",
    "if age>=18:\n",
    "    print('you are eligible for vote')\n",
    "else:\n",
    "    print(\"you too young for vote\")"
   ]
  },
  {
   "cell_type": "markdown",
   "metadata": {},
   "source": [
    "\n",
    "3) Write a program to check whether a number entered by user is even or odd."
   ]
  },
  {
   "cell_type": "code",
   "execution_count": 3,
   "metadata": {},
   "outputs": [
    {
     "name": "stdout",
     "output_type": "stream",
     "text": [
      "enter a number5\n",
      "5 is odd \n"
     ]
    }
   ],
   "source": [
    "num= int(input(\"enter a number\"))\n",
    "\n",
    "if num%2==0:\n",
    "    print(\"{0} is even \".format(num))\n",
    "else:\n",
    "     print(\"{0} is odd \".format(num))"
   ]
  },
  {
   "cell_type": "markdown",
   "metadata": {},
   "source": [
    "4) Write a program to check whether a number is divisible by 7 or not.\n",
    "Show Answer"
   ]
  },
  {
   "cell_type": "code",
   "execution_count": 5,
   "metadata": {},
   "outputs": [
    {
     "name": "stdout",
     "output_type": "stream",
     "text": [
      "enter a number56\n",
      "56 is divisible by 7\n"
     ]
    }
   ],
   "source": [
    "num= int(input(\"enter a number\"))\n",
    "\n",
    "if num%7==0:\n",
    "    print(f\"{num} is divisible by 7\")\n",
    "else:\n",
    "     print(f\"{num} is not divisible by 7\")"
   ]
  },
  {
   "cell_type": "raw",
   "metadata": {},
   "source": [
    "Q7. Write a program to display \n",
    "\"Hello\" if a number entered by user is a multiple of five , otherwise print \"Bye\"."
   ]
  },
  {
   "cell_type": "code",
   "execution_count": 6,
   "metadata": {},
   "outputs": [
    {
     "name": "stdout",
     "output_type": "stream",
     "text": [
      "enter a number7\n",
      "Bye\n"
     ]
    }
   ],
   "source": [
    "num= int(input(\"enter a number\"))\n",
    "\n",
    "if num%5==0:\n",
    "    print(\"Hello\")\n",
    "else:\n",
    "     print(\"Bye\")\n",
    "        "
   ]
  },
  {
   "cell_type": "raw",
   "metadata": {},
   "source": [
    "\n",
    "Q8. Write a program to calculate the electricity bill (accept number of unit from user) according to the following criteria :\n",
    "             Unit                                                     Price  \n",
    "First 100 units                                               no charge\n",
    "Next 100 units                                              Rs 5 per unit\n",
    "After 200 units                                             Rs 10 per unit\n",
    "(For example if input unit is 350 than total bill amount is Rs2000)"
   ]
  },
  {
   "cell_type": "code",
   "execution_count": 50,
   "metadata": {},
   "outputs": [
    {
     "name": "stdout",
     "output_type": "stream",
     "text": [
      "Enter units 350\n",
      "Your current bill is 2000\n"
     ]
    }
   ],
   "source": [
    "unit=int(input('Enter units '))\n",
    "\n",
    "\n",
    "\n",
    "if unit<=100:\n",
    "    slab1= unit*0\n",
    "        \n",
    "elif unit>=100 and unit<=200:\n",
    "    slab1= 100*0\n",
    "    slab2= (unit-100) *5\n",
    "        \n",
    "elif  unit>200:\n",
    "    \n",
    "    slab1= 100*0\n",
    "    slab2= 100*5\n",
    "    slab3= (unit-200) *10\n",
    "else:\n",
    "    print(\"none\")\n",
    "\n",
    " \n",
    " \n",
    "total = slab1 + slab2 + slab3\n",
    "print(f\"Your current bill is {total}\")"
   ]
  },
  {
   "cell_type": "code",
   "execution_count": 78,
   "metadata": {},
   "outputs": [
    {
     "name": "stdout",
     "output_type": "stream",
     "text": [
      "Enter consumed units : 350\n",
      "2000\n"
     ]
    }
   ],
   "source": [
    "number_of_units = int(input(\"Enter consumed units : \"))\n",
    "\n",
    "if number_of_units < 100:\n",
    "    bill_amount1slab = 100 * 0\n",
    "   \n",
    "    \n",
    "if (number_of_units>100) and (number_of_units<=200):\n",
    "    \n",
    "    bill_amount2slab = (100 * 5)\n",
    "    print(bill_amount2slab)\n",
    " \n",
    "  \n",
    "if number_of_units > 200:\n",
    "    units3slab = number_of_units-200\n",
    "    bill_amount3slab = ( units3slab *10) + bill_amount2slab\n",
    "    print(bill_amount3slab)"
   ]
  },
  {
   "cell_type": "code",
   "execution_count": 79,
   "metadata": {},
   "outputs": [
    {
     "name": "stdout",
     "output_type": "stream",
     "text": [
      "Enter consumed units : 350\n",
      "2000\n"
     ]
    }
   ],
   "source": [
    "number_of_units = int(input(\"Enter consumed units : \"))\n",
    "\n",
    "if number_of_units < 100:\n",
    "    bill_amount1slab = 100 * 0\n",
    "   \n",
    "    \n",
    "elif (number_of_units>100) and (number_of_units<=200):\n",
    "    \n",
    "    bill_amount2slab = (100 * 5)\n",
    "    print(bill_amount2slab)\n",
    " \n",
    "  \n",
    "else:\n",
    "    #number_of_units > 200:\n",
    "    units3slab = number_of_units-200\n",
    "    bill_amount3slab = ( units3slab *10) + bill_amount2slab\n",
    "    print(bill_amount3slab)"
   ]
  },
  {
   "cell_type": "raw",
   "metadata": {},
   "source": [
    "Write a program to display the last digit of a number.\n",
    "(hint : any number % 10 will return the last digit)"
   ]
  },
  {
   "cell_type": "code",
   "execution_count": 82,
   "metadata": {},
   "outputs": [
    {
     "name": "stdout",
     "output_type": "stream",
     "text": [
      "Please Enter any Number: 3525\n",
      "The Last Digit in a Given Number 5\n"
     ]
    }
   ],
   "source": [
    "\n",
    "number = int(input(\"Please Enter any Number: \"))\n",
    "\n",
    "last_digit = number % 10\n",
    "\n",
    "print(f\"The Last Digit in a Given Number {last_digit}\" )"
   ]
  },
  {
   "cell_type": "code",
   "execution_count": 83,
   "metadata": {},
   "outputs": [
    {
     "data": {
      "text/plain": [
       "6"
      ]
     },
     "execution_count": 83,
     "metadata": {},
     "output_type": "execute_result"
    }
   ],
   "source": [
    "465846%10"
   ]
  },
  {
   "cell_type": "code",
   "execution_count": 84,
   "metadata": {},
   "outputs": [
    {
     "data": {
      "text/plain": [
       "6"
      ]
     },
     "execution_count": 84,
     "metadata": {},
     "output_type": "execute_result"
    }
   ],
   "source": [
    "3546%10"
   ]
  },
  {
   "cell_type": "raw",
   "metadata": {},
   "source": [
    "Q10. Write a program to check whether the last digit of a number( entered by user ) is \n",
    "divisible by 3 or not."
   ]
  },
  {
   "cell_type": "code",
   "execution_count": 86,
   "metadata": {},
   "outputs": [
    {
     "name": "stdout",
     "output_type": "stream",
     "text": [
      "Please Enter any Number: 333\n",
      "The Last Digit in a Given Number 3 is divisible by 3\n"
     ]
    }
   ],
   "source": [
    "number = int(input(\"Please Enter any Number: \"))\n",
    "\n",
    "last_digit = number % 10\n",
    "if last_digit % 3==0:\n",
    "    \n",
    "    \n",
    "    print(f\"The Last Digit in a Given Number {last_digit} is divisible by 3\" )\n",
    "\n",
    "else:\n",
    "    print(\"Not divisibe by 3\")"
   ]
  },
  {
   "cell_type": "raw",
   "metadata": {},
   "source": [
    "11) Take values of length and breadth of a rectangle from user and check if it is square or not."
   ]
  },
  {
   "cell_type": "code",
   "execution_count": 94,
   "metadata": {},
   "outputs": [
    {
     "name": "stdout",
     "output_type": "stream",
     "text": [
      "Plz enter your length of rectangle :62\n",
      "Plz enter your breadth of rectangle :54\n",
      "Noo!\n"
     ]
    }
   ],
   "source": [
    "length= int(input(\"Plz enter your length of rectangle :\"))\n",
    "breadth= int(input(\"Plz enter your breadth of rectangle :\"))\n",
    "\n",
    "if length == breadth:\n",
    "    print(\"Yes, its perfect square !\")\n",
    "    \n",
    "\n",
    "else:\n",
    "    print(\"Noo!\")"
   ]
  },
  {
   "cell_type": "raw",
   "metadata": {},
   "source": [
    "12) Take two int values from user and print greatest among them."
   ]
  },
  {
   "cell_type": "code",
   "execution_count": 96,
   "metadata": {},
   "outputs": [
    {
     "name": "stdout",
     "output_type": "stream",
     "text": [
      "Enter 1st value : 57\n",
      "Enter 2nd value : 66\n",
      "66 is greater value\n"
     ]
    }
   ],
   "source": [
    "# Type your code here\n",
    "a = int(input(\"Enter 1st value : \"))\n",
    "b = int(input(\"Enter 2nd value : \"))\n",
    "\n",
    "if a - b > 0:\n",
    "    print(f\"{a} is greater value\")\n",
    "\n",
    "else:\n",
    "        print(f\"{b} is greater value\")"
   ]
  },
  {
   "cell_type": "raw",
   "metadata": {},
   "source": [
    "14) A shop will give discount of 10% if the cost of purchased quantity is more than 1000.\n",
    "Ask user for quantity\n",
    "Suppose, one unit will cost 100.\n",
    "Judge and print total cost for user."
   ]
  },
  {
   "cell_type": "code",
   "execution_count": 98,
   "metadata": {},
   "outputs": [
    {
     "name": "stdout",
     "output_type": "stream",
     "text": [
      "plz enter unit/number of quantities : 25\n",
      "A 10% discount was given to you and now you have to pay Rs 250.0\n"
     ]
    }
   ],
   "source": [
    "#Type your code here\n",
    "\n",
    "quantity = int(input(\"plz enter unit/number of quantities : \"))\n",
    "cost_of_purchased_quantity = quantity*100\n",
    "discount = cost_of_purchased_quantity*0.1\n",
    "if cost_of_purchased_quantity > 1000:\n",
    "    print(f'A 10% discount was given to you and now you have to pay Rs {discount}')\n",
    "    \n",
    "else:\n",
    "    \"you have'nt given discount\"\n"
   ]
  },
  {
   "cell_type": "raw",
   "metadata": {},
   "source": [
    "15) A school has following rules for grading system:\n",
    "\n",
    "a. Below 25 - F\n",
    "\n",
    "b. 25 to 45 - E\n",
    "\n",
    "c. 45 to 50 - D\n",
    "\n",
    "d. 50 to 60 - C\n",
    "\n",
    "e. 60 to 80 - B\n",
    "\n",
    "f. Above 80 - A\n",
    "\n",
    "Ask user to enter marks and print the corresponding grade."
   ]
  },
  {
   "cell_type": "code",
   "execution_count": null,
   "metadata": {},
   "outputs": [],
   "source": [
    "#Type your code here"
   ]
  },
  {
   "cell_type": "raw",
   "metadata": {},
   "source": [
    "16) Take input of age of 3 people by user and determine oldest and youngest among them."
   ]
  },
  {
   "cell_type": "code",
   "execution_count": 6,
   "metadata": {},
   "outputs": [],
   "source": [
    "#Type your code here"
   ]
  },
  {
   "cell_type": "raw",
   "metadata": {},
   "source": [
    "17)A student will not be allowed to sit in exam if his/her attendence is less than 75%.\n",
    "\n",
    "Take following input from user\n",
    "\n",
    "Number of classes held\n",
    "\n",
    "Number of classes attended.\n",
    "\n",
    "And print\n",
    "\n",
    "percentage of class attended\n",
    "\n",
    "Is student is allowed to sit in exam or not.\n"
   ]
  },
  {
   "cell_type": "code",
   "execution_count": 8,
   "metadata": {},
   "outputs": [],
   "source": [
    "#Type your code here"
   ]
  },
  {
   "cell_type": "markdown",
   "metadata": {},
   "source": [
    "18) Modify the above question to allow student to sit if he/she has medical cause. Ask user if he/she has medical cause or not ( 'Y' or 'N' ) and print accordingly."
   ]
  },
  {
   "cell_type": "code",
   "execution_count": 9,
   "metadata": {},
   "outputs": [],
   "source": [
    "#Type your code here"
   ]
  },
  {
   "cell_type": "raw",
   "metadata": {},
   "source": [
    "19) Write a program to check if a year is leap year or not.\n",
    "\n",
    "If a year is divisible by 4 then it is leap year but if the year is century year like 2000, 1900, 2100 then it must be divisible by 400."
   ]
  },
  {
   "cell_type": "code",
   "execution_count": 10,
   "metadata": {},
   "outputs": [],
   "source": [
    "#Type your code here"
   ]
  },
  {
   "cell_type": "raw",
   "metadata": {},
   "source": [
    "20) Ask user to enter age, gender ( M or F ), marital status ( Y or N ) and then using following rules print their place of service.\n",
    "\n",
    "if employee is female, then she will work only in urban areas.\n",
    "\n",
    "if employee is a male and age is in between 20 to 40 then he may work in anywhere\n",
    "\n",
    "if employee is male and age is in between 40 t0 60 then he will work in urban areas only.\n",
    "\n",
    "And any other input of age should print \"ERROR\""
   ]
  },
  {
   "cell_type": "code",
   "execution_count": 11,
   "metadata": {},
   "outputs": [],
   "source": [
    "#Type your code here"
   ]
  },
  {
   "cell_type": "code",
   "execution_count": null,
   "metadata": {},
   "outputs": [],
   "source": []
  }
 ],
 "metadata": {
  "kernelspec": {
   "display_name": "Python 3 (ipykernel)",
   "language": "python",
   "name": "python3"
  },
  "language_info": {
   "codemirror_mode": {
    "name": "ipython",
    "version": 3
   },
   "file_extension": ".py",
   "mimetype": "text/x-python",
   "name": "python",
   "nbconvert_exporter": "python",
   "pygments_lexer": "ipython3",
   "version": "3.9.7"
  }
 },
 "nbformat": 4,
 "nbformat_minor": 2
}
